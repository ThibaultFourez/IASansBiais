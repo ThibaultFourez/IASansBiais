{
 "cells": [
  {
   "cell_type": "markdown",
   "metadata": {},
   "source": [
    "<center>\n",
    "<a href=\"http://www.insa-toulouse.fr/\" ><img src=\"http://www.math.univ-toulouse.fr/~besse/Wikistat/Images/logo-insa.jpg\" style=\"float:left; max-width: 120px; display: inline\" alt=\"INSA\"/></a> \n",
    "\n",
    "<a href=\"http://www.univ-tlse3.fr/\" ><img src=\"http://www.univ-tlse3.fr/medias/photo/ut3pres_logoq_1372757033342.jpg?ID_FICHE=49702\" style=\"float:right; max-width: 250px; display: inline\" alt=\"INSA\"/></a> \n",
    "</center>"
   ]
  },
  {
   "cell_type": "markdown",
   "metadata": {},
   "source": [
    "\n",
    "\n",
    "# Biais et Discrimination en Apprentissage Statistique\n",
    "## Estimation de l'*effet disproportionné* par Intervalle de Confiance et correction du biais\n",
    "\n",
    "### Résumé\n",
    "Analyse *loyale* de données extraites d'un recensement aux USA de 1994 et disponibles sur le [dépôt de l'UCI](http://archive.ics.uci.edu/ml/). Ces données permettent de mettre en relation le niveau de revenu (inférieur ou supérieur à 50k$) avec d'autres variables. L'effet disproportionné est estimé par intervalle de confiance comme indicateur de biais, source de discrimination. L'objectif est d'évaluer les aspects discriminatoires des données et leurs conséquences sur des modèles et algorithmes de prévision sur lesquelles ils sont entraînés. Un modèle de régression logistique classique estimé sur ces données montre qu'il renforce le biais donc la discrimination. Des propositions de correction de biais sont comparées afin de proposer un mode d'apprentissage loyal pour au moins éviter le renforcement du biais: correction par testing, modificaiton des seuils de décision, transport optimal. "
   ]
  },
  {
   "cell_type": "markdown",
   "metadata": {},
   "source": [
    "## 1 Introduction\n",
    "### 1.1 Les données\n",
    "Des données publiques disponibles sur le site [UCI repository](http://archive.ics.uci.edu/ml/) sont extraites de la base de données issue du recensement réalisé aux Etats Unis en 1994. Ces données son largement utilisées et font référence comme outil de *benchmark* pour comparer les performances de méthodes d’apprentissage et en étudier la loyauté (*fair learning*). L’objectif est de prévoir, avec plus ou moins de biais, la variable binaire \"revenu annuel\" supérieur ou inférieur à 50k$. Cette prévision n'impacte pas la personne mais comme la démarche et le contexte sont tout à fait similaires à ce que pourrait faire une banque pour évaluer un risque de crédit, c'est exemple est très illustratif. Il est d'ailleurs systématiquement utilisé pour comparer les propriétés des algorithmes d'apprentissage équitable (références) car contrairement à beaucoup d'autres jeux de données utlisés pour cette fin (*e.g. german credit bank*), la vraie valeur de la variable cible est connue.\n",
    "\n",
    "Dans les données initiales, 32.561 individus sont décrits par les 14 variables du tableau ci-dessous:\n",
    "\n",
    "\n",
    "|Num|Libellé|Ensemble de valeurs|\n",
    "|-|:---------|:-------------------|\n",
    "|1|`Age`|real|\n",
    "|2|`workClass`|Private, Self-emp-not-inc, Self-emp-inc, Federal-gov, Local-gov, State-gov, Without-pay, Never-worked|\n",
    "|3|`fnlwgt`|real|\n",
    "|4|`education`|Bachelors, Some-college, 11th, HS-grad, Prof-school, Assoc-acdm, Assoc-voc, 9th, 7th-8th, 12th, Masters, 1st-4th, 10th, Doctorate, 5th-6th, Preschool|\n",
    "|5|`educNum`|integer|\n",
    "|6|`mariStat`|Married-civ-spouse, Divorced, Never-married, Separated, Widowed, Married-spouse-absent, Married-AF-spouse|\n",
    "|7|`occup`|Tech-support, Craft-repair, Other-service, Sales, Exec-managerial, Prof-specialty, Handlers-cleaners, Machine-op-inspct, Adm-clerical, Farming-fishing, Transport-moving, Priv-house-serv, Protective-serv, Armed-Forces|\n",
    "|8|`relationship`|Wife, Own-child, Husband, Not-in-family, Other-relative, Unmarried\n",
    "|9|`origEthn`|White, Asian-Pac-Islander, Amer-Indian-Eskimo, Other, Black|\n",
    "|10|`sex`|Female, Male|\n",
    "|11|`capitalGain`|real| \n",
    "|12|`capitalLoss`|real|\n",
    "|13|`hoursWeek`|real|\n",
    "|14|`nativCountry`|United-States, Cambodia, England, Puerto-Rico, Canada, Germany, Outlying-US(Guam-USVI-etc), India, Japan, Greece, South, China, Cuba, Iran, Honduras, Philippines, Italy, Poland, Jamaica, Vietnam, Mexico, Portugal, Ireland, France, Dominican-Republic, Laos, Ecuador, Taiwan, Haiti, Columbia, Hungary, Guatemala, Nicaragua, Scotland, Thailand, Yugoslavia, El-Salvador, Trinadad&Tobago, Peru, Hong, Holand-Netherlands|\n",
    "|15|`income`|>50K, <=50K|\n"
   ]
  },
  {
   "cell_type": "markdown",
   "metadata": {},
   "source": [
    "### 1.2 Les traitements et analyses réalisés sur ces données\n",
    "- Lecture et prise en charge des données en remarquant que la variable `fnlwgt` (Final sampling weight) a un [statut particulier](http://web.cs.wpi.edu/~cs4341/C00/Projects/fnlwgt) pas très clair. Elle pourrait être oubliée dans les modèles.\n",
    "- Exploration élémentaire et multidimensionnelle (AFCM)\n",
    "- Prévision du revenu par régression logistique\n",
    "- Estimation du *disparate impact* par intervalle de confiance vis-à-vis de deux variables sensibles: genre et origine ethnique. Sur les données initiales et sur les prévisions du seuil de revenu.\n",
    "- Evaluation de la sensibilité de ces modèles à des actions de testing: quels sont les individus pour lesquels la prévision du seuil de revenu dépend de la seule variable sensible?\n",
    "- Corrections du biais par diffrentes stratégies.\n",
    "\n",
    "**Remarque** Tout ce qui a été fait en utilisant la régression logistique comme métode de prévision a également été opéré en utilisant l'algorithme *Random Forest*. Ceci produit les mêmes résultats, c'est à dire les mêmes qualités de prévision et les mêmes orientations des biais. Mais, comme cet algoritme soulève des complications d'interprétation  du fait de sa non linéarité, cette méthode est laissée de côté. "
   ]
  },
  {
   "cell_type": "markdown",
   "metadata": {},
   "source": [
    "## 2 Prise en Charge des données\n",
    "### 2.1 Lecture et premières transformations\n",
    "La lecture et la transformation des données brutes du dépôt de l'UCI sont obtenues directement en exécutant un code source en R. Consulter le code du programme pour comprendre les transformations qui ont été réalisées sur les données brutes. Cette étape a été largement anticipée et simplifiée par la fourniture du programe afférent. Ne pas oublier qu'elle est essentielle et occupe la plus grande partie du temps nécessaire à une analyse. Elle aurait pu être rendue plus efficace (programme plus concis et exécution plus rapide) en utilisant la librairie `dplyr` très adaptée à cet usage.\n",
    "\n",
    "Charger les données et le programme dans le répertoire courant (path=\"\") en même temps que ce tutoriel ou changer de chemin pour y accéder directement. \n",
    "\n",
    "Certaines variables qualitatives sont recodées afin de regrouper des classes, les variables quantitatives, dont l'âge, sont découpées en classes afin d'en construire des versions qualitatives."
   ]
  },
  {
   "cell_type": "code",
   "execution_count": 1,
   "metadata": {},
   "outputs": [
    {
     "data": {
      "text/plain": [
       "      age                workClass         fnlwgt              education    \n",
       " Min.   :18.00   Federal-Govt : 1390   Min.   :  13492   HS-grad    :14766  \n",
       " 1st Qu.:28.00   Not-Working  :   21   1st Qu.: 117404   HS-Graduate: 9892  \n",
       " Median :37.00   Other-Govt   : 5023   Median : 178390   Bachelors  : 7569  \n",
       " Mean   :38.79   Private      :32856   Mean   : 189858   Dropout    : 5182  \n",
       " 3rd Qu.:47.00   Self-Employed: 5425   3rd Qu.: 237998   Associates : 3466  \n",
       " Max.   :90.00                         Max.   :1490400   Masters    : 2512  \n",
       "                                                         (Other)    : 1328  \n",
       "    educNum               mariStat              occup      \n",
       " Min.   : 1.00   Married      :21079   Admin       : 5501  \n",
       " 1st Qu.: 9.00   Never-Married:14100   Blue-Collar :14732  \n",
       " Median :10.00   Not-Married  : 8259   Other-occups: 2391  \n",
       " Mean   :10.16   Widowed      : 1277   Professional: 5992  \n",
       " 3rd Qu.:13.00                         Sales       : 5272  \n",
       " Max.   :16.00                         Service     : 4846  \n",
       "                                       White-Collar: 5981  \n",
       "         relationship          origEthn         sex        capitalGain   \n",
       " Husband       :18660   Amer-Indian:  428   Female:14450   None  :40939  \n",
       " Not-in-family :11678   Asian      : 1302   Male  :30265   cgLow : 2167  \n",
       " Other-relative: 1320   Black      : 4194                  cgHigh: 1609  \n",
       " Own-child     : 6184   Other      :  348                                \n",
       " Unmarried     : 4782   White      :38443                                \n",
       " Wife          : 2091                                                    \n",
       "                                                                         \n",
       " capitalLoss      hoursWeek                   nativCountry       income     \n",
       " None  :42587   Min.   : 1.00   United-States       :40807   incHigh:11204  \n",
       " clLow : 1071   1st Qu.:40.00   Latin-America       : 1537   incLow :33511  \n",
       " clHigh: 1057   Median :40.00   British-Commonwealth:  481                  \n",
       "                Mean   :41.17   SE-Asia             :  441                  \n",
       "                3rd Qu.:45.00   Euro_2              :  333                  \n",
       "                Max.   :99.00   Euro_1              :  330                  \n",
       "                                (Other)             :  786                  \n",
       "  LcapitalGain     LcapitalLoss     ageQ      hoursWeekQ \n",
       " Min.   : 0.000   Min.   :0.0000   Ag1:9034   HW1: 9638  \n",
       " 1st Qu.: 0.000   1st Qu.:0.0000   Ag2:8473   HW2:21367  \n",
       " Median : 0.000   Median :0.0000   Ag3:9714   HW3:13710  \n",
       " Mean   : 0.747   Mean   :0.3575   Ag4:9649              \n",
       " 3rd Qu.: 0.000   3rd Qu.:0.0000   Ag5:7845              \n",
       " Max.   :11.513   Max.   :8.3795                         \n",
       "                                                         "
      ]
     },
     "metadata": {},
     "output_type": "display_data"
    }
   ],
   "source": [
    "# Chemin pour charger au moment de l'exécution:\n",
    "# path=\"http://www.math.univ-toulouse.fr/~besse/Wikistat/programmes/\"\n",
    "path=\"\"\n",
    "source(paste(path,\"dataPrepAdultCensus.R\",sep=\"\"))\n",
    "summary(dataBase)"
   ]
  },
  {
   "cell_type": "markdown",
   "metadata": {},
   "source": [
    "### 2.2 Quelques graphiques\n",
    "Mettre en évidence des difficultés présentes sur certaines variables ou couples de variables."
   ]
  },
  {
   "cell_type": "code",
   "execution_count": 2,
   "metadata": {},
   "outputs": [
    {
     "data": {
      "image/png": "[encoded data removed]",
      "text/plain": [
       "Plot with title “”"
      ]
     },
     "metadata": {},
     "output_type": "display_data"
    }
   ],
   "source": [
    "# dimensions des graphiques\n",
    "options(repr.plot.width=4, repr.plot.height=4)\n",
    "hist(dataBase[,\"LcapitalGain\"],probability=T, main=\"\",xlab=\"log(1+CapitalGain)\")\n",
    "boxplot(dataBase[,\"LcapitalGain\"], horizontal=TRUE,boxwex=.2,  outline=TRUE,  \n",
    "        frame=F, col = \"lightgrey\", add = TRUE,at=0.2)"
   ]
  },
  {
   "cell_type": "markdown",
   "metadata": {},
   "source": [
    "Nécessité de transformer certaines variables avant de contruire des modèles linéaires puis mise en évidence de fortes redondances dans certaines variables."
   ]
  },
  {
   "cell_type": "code",
   "execution_count": 3,
   "metadata": {},
   "outputs": [
    {
     "data": {
      "text/plain": [
       "                \n",
       "                 Female  Male\n",
       "  Husband             1 18659\n",
       "  Not-in-family    5404  6274\n",
       "  Other-relative    599   721\n",
       "  Own-child        2707  3477\n",
       "  Unmarried        3649  1133\n",
       "  Wife             2090     1"
      ]
     },
     "metadata": {},
     "output_type": "display_data"
    }
   ],
   "source": [
    "table(dataBase$relationship,dataBase$sex)   "
   ]
  },
  {
   "cell_type": "code",
   "execution_count": 4,
   "metadata": {},
   "outputs": [
    {
     "data": {
      "text/plain": [
       "             \n",
       "                  1     2     3     4     5     6     7     8     9    10    11\n",
       "  Associates      0     0     0     0     0     0     0     0     0     0  1959\n",
       "  Bachelors       0     0     0     0     0     0     0     0     0     0     0\n",
       "  Doctorate       0     0     0     0     0     0     0     0     0     0     0\n",
       "  Dropout        72   222   446   819   644  1073  1387   519     0     0     0\n",
       "  HS-grad         0     0     0     0     0     0     0     0 14766     0     0\n",
       "  HS-Graduate     0     0     0     0     0     0     0     0     0  9892     0\n",
       "  Masters         0     0     0     0     0     0     0     0     0     0     0\n",
       "  Prof-School     0     0     0     0     0     0     0     0     0     0     0\n",
       "             \n",
       "                 12    13    14    15    16\n",
       "  Associates   1507     0     0     0     0\n",
       "  Bachelors       0  7569     0     0     0\n",
       "  Doctorate       0     0     0     0   544\n",
       "  Dropout         0     0     0     0     0\n",
       "  HS-grad         0     0     0     0     0\n",
       "  HS-Graduate     0     0     0     0     0\n",
       "  Masters         0     0  2512     0     0\n",
       "  Prof-School     0     0     0   784     0"
      ]
     },
     "metadata": {},
     "output_type": "display_data"
    }
   ],
   "source": [
    "table(dataBase$education,dataBase$educNum)  "
   ]
  },
  {
   "cell_type": "code",
   "execution_count": 5,
   "metadata": {},
   "outputs": [
    {
     "data": {
      "text/plain": [
       "               \n",
       "                Husband Not-in-family Other-relative Own-child Unmarried  Wife\n",
       "  Married         18660            19            184       125         0  2091\n",
       "  Never-Married       0          6667            793      5423      1217     0\n",
       "  Not-Married         0          4305            284       616      3054     0\n",
       "  Widowed             0           687             59        20       511     0"
      ]
     },
     "metadata": {},
     "output_type": "display_data"
    }
   ],
   "source": [
    "table(dataBase$mariStat,dataBase$relationship)"
   ]
  },
  {
   "cell_type": "code",
   "execution_count": 6,
   "metadata": {},
   "outputs": [
    {
     "data": {
      "text/plain": [
       "             \n",
       "              British-Commonwealth China Euro_1 Euro_2 Latin-America Other\n",
       "  Amer-Indian                    0     1      1      2            12     0\n",
       "  Asian                        125   185      4    101            13    61\n",
       "  Black                         11     0     10      0           230     8\n",
       "  Other                         12     0      2      1           125    11\n",
       "  White                        333    10    313    229          1157   198\n",
       "             \n",
       "              SE-Asia South-America United-States\n",
       "  Amer-Indian       1             1           410\n",
       "  Asian           416             0           397\n",
       "  Black             4             2          3929\n",
       "  Other             0            31           166\n",
       "  White            20           278         35905"
      ]
     },
     "metadata": {},
     "output_type": "display_data"
    }
   ],
   "source": [
    "table(dataBase$origEthn,dataBase$nativCountry)"
   ]
  },
  {
   "cell_type": "markdown",
   "metadata": {},
   "source": [
    "Quelques mosaicplots importants montrant le liens des variables sensibles avec la cible (seuil de revenu)."
   ]
  },
  {
   "cell_type": "code",
   "execution_count": 7,
   "metadata": {},
   "outputs": [
    {
     "data": {
      "image/png": "[encoded data removed]",
      "text/plain": [
       "Plot with title “”"
      ]
     },
     "metadata": {},
     "output_type": "display_data"
    }
   ],
   "source": [
    "mosaicplot(table(dataBase[,\"sex\"],dataBase[,\"income\"]),main=\"\")"
   ]
  },
  {
   "cell_type": "markdown",
   "metadata": {},
   "source": [
    "**Q** Commentaire sur le biais présent dans la base."
   ]
  },
  {
   "cell_type": "markdown",
   "metadata": {},
   "source": [
    "On observe un biais au niveau de la base d'apprentissage. En effet les deux populations observées (femmes et hommes) présentent une grande différence de salaire (au niveau de la variable binaire income). \n",
    "Cette différence va avoir tendance à reproduire le biais structurel présent dans la société au niveau des salaires (bien qu'on ne connaisse pas sa valeur précise), voire le renforcer.\n",
    "\n",
    "Il est aussi important de noter que, disposant de moins de données pour calculer les proportions de femmes ayant des hauts salaires et des bas salaires, l'erreur sur les données des femmes est plus grande que celle sur les données des hommes.\n"
   ]
  },
  {
   "cell_type": "code",
   "execution_count": 8,
   "metadata": {},
   "outputs": [
    {
     "data": {
      "image/png": "[encoded data removed]",
      "text/plain": [
       "Plot with title “”"
      ]
     },
     "metadata": {},
     "output_type": "display_data"
    }
   ],
   "source": [
    "mosaicplot(table(dataBase[,\"origEthn\"],dataBase[,\"income\"]),main=\"\")"
   ]
  },
  {
   "cell_type": "markdown",
   "metadata": {},
   "source": [
    "Quelques modifications sont apportées de la base. Certaines variables en versions quantitatives et qualitatives comme le nombre d'heures par semaine, l'âge ou le niveau d'éducation sont conservées. Des variables sont supprimées afin de ne garder qu'une seule présence d'une information sensible: genre et origine ethnique.\n",
    "- Suppression de la variable 3 `fnlwgt` qui n'a guère de signification.\n",
    "- Création d'une variable binaire `Child`: présence ou non d'enfants\n",
    "- Suppression de la variable 8 `relationship` redondante avec le genre et le statut marital,\n",
    "- Suppression de la variable 14 `nativCountry` redondante avec l'origine ethnique.\n",
    "- La variable 9 `originEthn` est simplifiée à 2 classes: CaucYes *vs.* CaucNo"
   ]
  },
  {
   "cell_type": "code",
   "execution_count": 9,
   "metadata": {},
   "outputs": [],
   "source": [
    "dataBase[,\"Child\"]=as.factor(ifelse(dataBase$relationship=='Own-child',\"ChildYes\",\"ChildNo\"))\n",
    "dataBase[,\"origEthn\"]=as.factor(ifelse(dataBase$origEthn %in% c('Amer-Indian','Asian','Black','Other'),\"CaucNo\",\"CaucYes\"))\n",
    "\n",
    "datBas=dataBase[,-c(3,8,14)]"
   ]
  },
  {
   "cell_type": "code",
   "execution_count": 10,
   "metadata": {},
   "outputs": [
    {
     "data": {
      "image/png": "[encoded data removed]",
      "text/plain": [
       "Plot with title “”"
      ]
     },
     "metadata": {},
     "output_type": "display_data"
    }
   ],
   "source": [
    "mosaicplot(table(dataBase[,\"origEthn\"],dataBase[,\"income\"]),main=\"\")"
   ]
  },
  {
   "cell_type": "markdown",
   "metadata": {},
   "source": [
    "**Q** Commentaire sur le biais présent dans la base."
   ]
  },
  {
   "cell_type": "markdown",
   "metadata": {},
   "source": [
    "On observe un biais au niveau de la base d'apprentissage. En effet les deux populations observées (caucasiens et non caucasiens) présentent une grande différence de salaire (au niveau de la variable binaire income). Ce biais semble toutefois moins important que celui entre femmes et hommes. \n",
    "Cette différence va avoir tendance à reproduire le biais structurel présent dans la société au niveau des salaires (bien qu'on ne connaisse pas sa valeur précise), voire le renforcer.\n",
    "\n",
    "Il est aussi important de noter que, disposant de moins de données pour calculer les proportions de non caucasiens ayant des hauts salaires et des bas salaires, l'erreur sur les données des non caucasiens est plus grande que celle sur les données des caucasiens. Cette différence de répartition de l'échantillon est encore plus forte qu'entre les hommes et les femmes, ce qui va induire une différence de précision d'autant plus élevée."
   ]
  },
  {
   "cell_type": "code",
   "execution_count": 11,
   "metadata": {},
   "outputs": [
    {
     "data": {
      "text/plain": [
       "      age                workClass           education        educNum     \n",
       " Min.   :18.00   Federal-Govt : 1390   HS-grad    :14766   Min.   : 1.00  \n",
       " 1st Qu.:28.00   Not-Working  :   21   HS-Graduate: 9892   1st Qu.: 9.00  \n",
       " Median :37.00   Other-Govt   : 5023   Bachelors  : 7569   Median :10.00  \n",
       " Mean   :38.79   Private      :32856   Dropout    : 5182   Mean   :10.16  \n",
       " 3rd Qu.:47.00   Self-Employed: 5425   Associates : 3466   3rd Qu.:13.00  \n",
       " Max.   :90.00                         Masters    : 2512   Max.   :16.00  \n",
       "                                       (Other)    : 1328                  \n",
       "          mariStat              occup          origEthn         sex       \n",
       " Married      :21079   Admin       : 5501   CaucNo : 6272   Female:14450  \n",
       " Never-Married:14100   Blue-Collar :14732   CaucYes:38443   Male  :30265  \n",
       " Not-Married  : 8259   Other-occups: 2391                                 \n",
       " Widowed      : 1277   Professional: 5992                                 \n",
       "                       Sales       : 5272                                 \n",
       "                       Service     : 4846                                 \n",
       "                       White-Collar: 5981                                 \n",
       " capitalGain    capitalLoss      hoursWeek         income       LcapitalGain   \n",
       " None  :40939   None  :42587   Min.   : 1.00   incHigh:11204   Min.   : 0.000  \n",
       " cgLow : 2167   clLow : 1071   1st Qu.:40.00   incLow :33511   1st Qu.: 0.000  \n",
       " cgHigh: 1609   clHigh: 1057   Median :40.00                   Median : 0.000  \n",
       "                               Mean   :41.17                   Mean   : 0.747  \n",
       "                               3rd Qu.:45.00                   3rd Qu.: 0.000  \n",
       "                               Max.   :99.00                   Max.   :11.513  \n",
       "                                                                               \n",
       "  LcapitalLoss     ageQ      hoursWeekQ       Child      \n",
       " Min.   :0.0000   Ag1:9034   HW1: 9638   ChildNo :38531  \n",
       " 1st Qu.:0.0000   Ag2:8473   HW2:21367   ChildYes: 6184  \n",
       " Median :0.0000   Ag3:9714   HW3:13710                   \n",
       " Mean   :0.3575   Ag4:9649                               \n",
       " 3rd Qu.:0.0000   Ag5:7845                               \n",
       " Max.   :8.3795                                          \n",
       "                                                         "
      ]
     },
     "metadata": {},
     "output_type": "display_data"
    }
   ],
   "source": [
    "summary(datBas)"
   ]
  },
  {
   "cell_type": "markdown",
   "metadata": {},
   "source": [
    "### 2.3  [Analyse factorielle multiple des correspondances](http://wikistat.fr/pdf/st-m-explo-afcm.pdf)\n",
    "Cette méthode permet d'avoir une vue d'ensemble de la structure des liaisons entre les variables qualitatives prises 2 à 2. "
   ]
  },
  {
   "cell_type": "code",
   "execution_count": 12,
   "metadata": {},
   "outputs": [
    {
     "data": {
      "image/png": "[encoded data removed]",
      "text/plain": [
       "plot without title"
      ]
     },
     "metadata": {},
     "output_type": "display_data"
    }
   ],
   "source": [
    "library(FactoMineR)\n",
    "dataq=datBas[,c(2,3,5:10,12,15:17)]\n",
    "afcm=MCA(dataq,graph=FALSE)\n",
    "plot(1:30,afcm$eig[1:30,1],type=\"h\")"
   ]
  },
  {
   "cell_type": "markdown",
   "metadata": {},
   "source": [
    "Il pourrait être utile de considérer 3 ou 4 axes mais seuls deux sont utilisés dans cette approche élémentaire."
   ]
  },
  {
   "cell_type": "code",
   "execution_count": 13,
   "metadata": {},
   "outputs": [
    {
     "data": {
      "image/png": "[encoded data removed]",
      "text/plain": [
       "Plot with title “MCA factor map”"
      ]
     },
     "metadata": {},
     "output_type": "display_data"
    }
   ],
   "source": [
    "options(repr.plot.width=6, repr.plot.height=6)\n",
    "plot.MCA(afcm,invisible=c(\"ind\"),habillage=\"quali\")"
   ]
  },
  {
   "cell_type": "markdown",
   "metadata": {},
   "source": [
    "Remarquer la très forte et attendue liaison entre niveau d'éducation et activité selon un axe de dispersion suivant la première bissectrice lui même en relation avec les modalités haut et bas revenus alors que le genre, en première approximation, semble orthogonal à cet axe mais en relation avec le type d'activité et le nombre d'heures de travail par semaine.\n",
    "\n",
    "Ce graphique laisse penser que le lien entre genre et niveau de revenu ne serait pas dû à une sous qualification des femmes mais à une moindre activité (travail partiel) ou à des types d'emplois moins rémunérés.\n",
    "\n",
    "Cette représentation est complétée en projetant les individus colorés selon la variable revenu. De façon triviale, les hauts revenus se concentrent du côté des niveaux d'éducation les plus élevés.\n",
    "\n",
    "*En résumé*: un lien direct entre revenu et niveau d'éducation, pas nécessairement de lien entre genre et niveau d'éducation mais un \"frein\" au revenu lié au type de travail ou d'occupation : administratif, service... et à de possibles temps partiels."
   ]
  },
  {
   "cell_type": "code",
   "execution_count": 14,
   "metadata": {},
   "outputs": [
    {
     "data": {
      "image/png": "[encoded data removed]",
      "text/plain": [
       "plot without title"
      ]
     },
     "metadata": {},
     "output_type": "display_data"
    }
   ],
   "source": [
    "plot(afcm$ind$coord,type=\"p\",pch=\".\",cex=2,col=as.integer(dataBase$income))"
   ]
  },
  {
   "cell_type": "markdown",
   "metadata": {},
   "source": [
    "## 3 Modèles de prévision du seuil de revenu\n",
    "Une comparaison détaillée de la plupart des modèles et algorithmes de prévision du seuil de revenu en fonction des différentes variables met en évidence des résultats un peu meilleurs obtenus par l'algorithme de *gradient boosting*. Néanmoins, on peut se limiter ici à un modèle de régression logisitique très compétitif et interprétable. Un arbe de décision seul donne également une précision similaire mais beaucoup trop complexe (profondeur) pour être interprétable. \n",
    "\n",
    "### 3.1 Echantillons\n",
    "Les données sont préalablement séparées en deux échantillons apprentissage et test."
   ]
  },
  {
   "cell_type": "code",
   "execution_count": 15,
   "metadata": {},
   "outputs": [],
   "source": [
    "set.seed(111) # initialisation du générateur\n",
    "# Extraction des échantillons\n",
    "test.ratio=.2   # part de l'échantillon test\n",
    "npop=nrow(datBas) # nombre de lignes dans les données\n",
    "nvar=ncol(datBas) # nombre de colonnes\n",
    "# taille de l'échantillon test\n",
    "ntest=ceiling(npop*test.ratio) \n",
    "# indices de l'échantillon test\n",
    "testi=sample(1:npop,ntest)\n",
    "# indices de l'échantillon d'apprentissage\n",
    "appri=setdiff(1:npop,testi) "
   ]
  },
  {
   "cell_type": "code",
   "execution_count": 16,
   "metadata": {},
   "outputs": [],
   "source": [
    "# construction de l'échantillon d'apprentissage\n",
    "datApp=datBas[appri,]\n",
    "# construction de l'échantillon test \n",
    "daTest=datBas[testi,]"
   ]
  },
  {
   "cell_type": "markdown",
   "metadata": {},
   "source": [
    "### 3.2 Prévision par régression logistique\n",
    "Comme la plupart des coefficients sont significatifs au sens d'un test de Fisher et par souci de simplicité, il n'est pas fait de sélection de modèle ni non plus tenté un modèle avec des interactions. "
   ]
  },
  {
   "cell_type": "code",
   "execution_count": 17,
   "metadata": {},
   "outputs": [
    {
     "data": {
      "text/html": [
       "<table>\n",
       "<thead><tr><th></th><th scope=col>Df</th><th scope=col>Deviance</th><th scope=col>Resid. Df</th><th scope=col>Resid. Dev</th><th scope=col>Pr(&gt;Chi)</th></tr></thead>\n",
       "<tbody>\n",
       "\t<tr><th scope=row>NULL</th><td>NA           </td><td>        NA   </td><td>35771        </td><td>40203.12     </td><td>           NA</td></tr>\n",
       "\t<tr><th scope=row>age</th><td> 1           </td><td>1900.36292   </td><td>35770        </td><td>38302.75     </td><td> 0.000000e+00</td></tr>\n",
       "\t<tr><th scope=row>workClass</th><td> 4           </td><td> 218.21840   </td><td>35766        </td><td>38084.54     </td><td> 4.532105e-46</td></tr>\n",
       "\t<tr><th scope=row>education</th><td> 7           </td><td>4196.09766   </td><td>35759        </td><td>33888.44     </td><td> 0.000000e+00</td></tr>\n",
       "\t<tr><th scope=row>educNum</th><td> 1           </td><td>  30.43103   </td><td>35758        </td><td>33858.01     </td><td> 3.459492e-08</td></tr>\n",
       "\t<tr><th scope=row>mariStat</th><td> 3           </td><td>6238.45525   </td><td>35755        </td><td>27619.55     </td><td> 0.000000e+00</td></tr>\n",
       "\t<tr><th scope=row>occup</th><td> 6           </td><td> 849.67411   </td><td>35749        </td><td>26769.88     </td><td>2.838387e-180</td></tr>\n",
       "\t<tr><th scope=row>origEthn</th><td> 1           </td><td>  14.33522   </td><td>35748        </td><td>26755.54     </td><td> 1.529757e-04</td></tr>\n",
       "\t<tr><th scope=row>sex</th><td> 1           </td><td>  43.11366   </td><td>35747        </td><td>26712.43     </td><td> 5.165050e-11</td></tr>\n",
       "\t<tr><th scope=row>capitalGain</th><td> 2           </td><td>2140.71348   </td><td>35745        </td><td>24571.71     </td><td> 0.000000e+00</td></tr>\n",
       "\t<tr><th scope=row>capitalLoss</th><td> 2           </td><td> 352.06623   </td><td>35743        </td><td>24219.65     </td><td> 3.546422e-77</td></tr>\n",
       "\t<tr><th scope=row>hoursWeek</th><td> 1           </td><td> 350.95419   </td><td>35742        </td><td>23868.69     </td><td> 2.626342e-78</td></tr>\n",
       "\t<tr><th scope=row>LcapitalGain</th><td> 1           </td><td> 309.15980   </td><td>35741        </td><td>23559.53     </td><td> 3.328563e-69</td></tr>\n",
       "\t<tr><th scope=row>LcapitalLoss</th><td> 1           </td><td>  54.48113   </td><td>35740        </td><td>23505.05     </td><td> 1.569473e-13</td></tr>\n",
       "\t<tr><th scope=row>ageQ</th><td> 4           </td><td> 460.42560   </td><td>35736        </td><td>23044.63     </td><td> 2.420272e-98</td></tr>\n",
       "\t<tr><th scope=row>hoursWeekQ</th><td> 2           </td><td> 110.97942   </td><td>35734        </td><td>22933.65     </td><td> 7.963887e-25</td></tr>\n",
       "\t<tr><th scope=row>Child</th><td> 1           </td><td>  47.71959   </td><td>35733        </td><td>22885.93     </td><td> 4.917539e-12</td></tr>\n",
       "</tbody>\n",
       "</table>\n"
      ],
      "text/latex": [
       "\\begin{tabular}{r|lllll}\n",
       "  & Df & Deviance & Resid. Df & Resid. Dev & Pr(>Chi)\\\\\n",
       "\\hline\n",
       "\tNULL & NA            &         NA    & 35771         & 40203.12      &            NA\\\\\n",
       "\tage &  1            & 1900.36292    & 35770         & 38302.75      &  0.000000e+00\\\\\n",
       "\tworkClass &  4            &  218.21840    & 35766         & 38084.54      &  4.532105e-46\\\\\n",
       "\teducation &  7            & 4196.09766    & 35759         & 33888.44      &  0.000000e+00\\\\\n",
       "\teducNum &  1            &   30.43103    & 35758         & 33858.01      &  3.459492e-08\\\\\n",
       "\tmariStat &  3            & 6238.45525    & 35755         & 27619.55      &  0.000000e+00\\\\\n",
       "\toccup &  6            &  849.67411    & 35749         & 26769.88      & 2.838387e-180\\\\\n",
       "\torigEthn &  1            &   14.33522    & 35748         & 26755.54      &  1.529757e-04\\\\\n",
       "\tsex &  1            &   43.11366    & 35747         & 26712.43      &  5.165050e-11\\\\\n",
       "\tcapitalGain &  2            & 2140.71348    & 35745         & 24571.71      &  0.000000e+00\\\\\n",
       "\tcapitalLoss &  2            &  352.06623    & 35743         & 24219.65      &  3.546422e-77\\\\\n",
       "\thoursWeek &  1            &  350.95419    & 35742         & 23868.69      &  2.626342e-78\\\\\n",
       "\tLcapitalGain &  1            &  309.15980    & 35741         & 23559.53      &  3.328563e-69\\\\\n",
       "\tLcapitalLoss &  1            &   54.48113    & 35740         & 23505.05      &  1.569473e-13\\\\\n",
       "\tageQ &  4            &  460.42560    & 35736         & 23044.63      &  2.420272e-98\\\\\n",
       "\thoursWeekQ &  2            &  110.97942    & 35734         & 22933.65      &  7.963887e-25\\\\\n",
       "\tChild &  1            &   47.71959    & 35733         & 22885.93      &  4.917539e-12\\\\\n",
       "\\end{tabular}\n"
      ],
      "text/markdown": [
       "\n",
       "| <!--/--> | Df | Deviance | Resid. Df | Resid. Dev | Pr(>Chi) |\n",
       "|---|---|---|---|---|---|\n",
       "| NULL | NA            |         NA    | 35771         | 40203.12      |            NA |\n",
       "| age |  1            | 1900.36292    | 35770         | 38302.75      |  0.000000e+00 |\n",
       "| workClass |  4            |  218.21840    | 35766         | 38084.54      |  4.532105e-46 |\n",
       "| education |  7            | 4196.09766    | 35759         | 33888.44      |  0.000000e+00 |\n",
       "| educNum |  1            |   30.43103    | 35758         | 33858.01      |  3.459492e-08 |\n",
       "| mariStat |  3            | 6238.45525    | 35755         | 27619.55      |  0.000000e+00 |\n",
       "| occup |  6            |  849.67411    | 35749         | 26769.88      | 2.838387e-180 |\n",
       "| origEthn |  1            |   14.33522    | 35748         | 26755.54      |  1.529757e-04 |\n",
       "| sex |  1            |   43.11366    | 35747         | 26712.43      |  5.165050e-11 |\n",
       "| capitalGain |  2            | 2140.71348    | 35745         | 24571.71      |  0.000000e+00 |\n",
       "| capitalLoss |  2            |  352.06623    | 35743         | 24219.65      |  3.546422e-77 |\n",
       "| hoursWeek |  1            |  350.95419    | 35742         | 23868.69      |  2.626342e-78 |\n",
       "| LcapitalGain |  1            |  309.15980    | 35741         | 23559.53      |  3.328563e-69 |\n",
       "| LcapitalLoss |  1            |   54.48113    | 35740         | 23505.05      |  1.569473e-13 |\n",
       "| ageQ |  4            |  460.42560    | 35736         | 23044.63      |  2.420272e-98 |\n",
       "| hoursWeekQ |  2            |  110.97942    | 35734         | 22933.65      |  7.963887e-25 |\n",
       "| Child |  1            |   47.71959    | 35733         | 22885.93      |  4.917539e-12 |\n",
       "\n"
      ],
      "text/plain": [
       "             Df Deviance   Resid. Df Resid. Dev Pr(>Chi)     \n",
       "NULL         NA         NA 35771     40203.12              NA\n",
       "age           1 1900.36292 35770     38302.75    0.000000e+00\n",
       "workClass     4  218.21840 35766     38084.54    4.532105e-46\n",
       "education     7 4196.09766 35759     33888.44    0.000000e+00\n",
       "educNum       1   30.43103 35758     33858.01    3.459492e-08\n",
       "mariStat      3 6238.45525 35755     27619.55    0.000000e+00\n",
       "occup         6  849.67411 35749     26769.88   2.838387e-180\n",
       "origEthn      1   14.33522 35748     26755.54    1.529757e-04\n",
       "sex           1   43.11366 35747     26712.43    5.165050e-11\n",
       "capitalGain   2 2140.71348 35745     24571.71    0.000000e+00\n",
       "capitalLoss   2  352.06623 35743     24219.65    3.546422e-77\n",
       "hoursWeek     1  350.95419 35742     23868.69    2.626342e-78\n",
       "LcapitalGain  1  309.15980 35741     23559.53    3.328563e-69\n",
       "LcapitalLoss  1   54.48113 35740     23505.05    1.569473e-13\n",
       "ageQ          4  460.42560 35736     23044.63    2.420272e-98\n",
       "hoursWeekQ    2  110.97942 35734     22933.65    7.963887e-25\n",
       "Child         1   47.71959 35733     22885.93    4.917539e-12"
      ]
     },
     "metadata": {},
     "output_type": "display_data"
    }
   ],
   "source": [
    "# estimation du modèle complet\n",
    "log.lm=glm(income~.,data=datApp,family=binomial)\n",
    "# significativité des paramètres\n",
    "anova(log.lm,test=\"Chisq\")"
   ]
  },
  {
   "cell_type": "code",
   "execution_count": 18,
   "metadata": {},
   "outputs": [
    {
     "data": {
      "text/plain": [
       "       \n",
       "        incHigh incLow\n",
       "  FALSE     877   6228\n",
       "  TRUE     1397    441"
      ]
     },
     "metadata": {},
     "output_type": "display_data"
    }
   ],
   "source": [
    "# Prévision\n",
    "pred.log=predict(log.lm,newdata=daTest,type=\"response\")\n",
    "# Matrice de confusion pour la prévision du \n",
    "# dépassement de seuil\n",
    "confMat=table(pred.log<0.5,daTest$income)\n",
    "confMat"
   ]
  },
  {
   "cell_type": "code",
   "execution_count": 19,
   "metadata": {},
   "outputs": [
    {
     "data": {
      "text/html": [
       "0.147377837414738"
      ],
      "text/latex": [
       "0.147377837414738"
      ],
      "text/markdown": [
       "0.147377837414738"
      ],
      "text/plain": [
       "[1] 0.1473778"
      ]
     },
     "metadata": {},
     "output_type": "display_data"
    }
   ],
   "source": [
    "(confMat[1,1]+confMat[2,2])/sum(confMat)"
   ]
  },
  {
   "cell_type": "markdown",
   "metadata": {},
   "source": [
    "Les résultats sont très similaires à ceux obtenus par d'autres algorithmes comme les forêts aléatoires."
   ]
  },
  {
   "cell_type": "markdown",
   "metadata": {},
   "source": [
    "### 3.3 Modèle de régression sans la variable genre"
   ]
  },
  {
   "cell_type": "code",
   "execution_count": 20,
   "metadata": {},
   "outputs": [
    {
     "data": {
      "text/html": [
       "<table>\n",
       "<thead><tr><th></th><th scope=col>Df</th><th scope=col>Deviance</th><th scope=col>Resid. Df</th><th scope=col>Resid. Dev</th><th scope=col>Pr(&gt;Chi)</th></tr></thead>\n",
       "<tbody>\n",
       "\t<tr><th scope=row>NULL</th><td>NA           </td><td>        NA   </td><td>35771        </td><td>40203.12     </td><td>           NA</td></tr>\n",
       "\t<tr><th scope=row>age</th><td> 1           </td><td>1900.36292   </td><td>35770        </td><td>38302.75     </td><td> 0.000000e+00</td></tr>\n",
       "\t<tr><th scope=row>workClass</th><td> 4           </td><td> 218.21840   </td><td>35766        </td><td>38084.54     </td><td> 4.532105e-46</td></tr>\n",
       "\t<tr><th scope=row>education</th><td> 7           </td><td>4196.09766   </td><td>35759        </td><td>33888.44     </td><td> 0.000000e+00</td></tr>\n",
       "\t<tr><th scope=row>educNum</th><td> 1           </td><td>  30.43103   </td><td>35758        </td><td>33858.01     </td><td> 3.459492e-08</td></tr>\n",
       "\t<tr><th scope=row>mariStat</th><td> 3           </td><td>6238.45525   </td><td>35755        </td><td>27619.55     </td><td> 0.000000e+00</td></tr>\n",
       "\t<tr><th scope=row>occup</th><td> 6           </td><td> 849.67411   </td><td>35749        </td><td>26769.88     </td><td>2.838387e-180</td></tr>\n",
       "\t<tr><th scope=row>origEthn</th><td> 1           </td><td>  14.33522   </td><td>35748        </td><td>26755.54     </td><td> 1.529757e-04</td></tr>\n",
       "\t<tr><th scope=row>capitalGain</th><td> 2           </td><td>2154.37072   </td><td>35746        </td><td>24601.17     </td><td> 0.000000e+00</td></tr>\n",
       "\t<tr><th scope=row>capitalLoss</th><td> 2           </td><td> 353.34994   </td><td>35744        </td><td>24247.82     </td><td> 1.866535e-77</td></tr>\n",
       "\t<tr><th scope=row>hoursWeek</th><td> 1           </td><td> 372.45050   </td><td>35743        </td><td>23875.37     </td><td> 5.478335e-83</td></tr>\n",
       "\t<tr><th scope=row>LcapitalGain</th><td> 1           </td><td> 309.13352   </td><td>35742        </td><td>23566.24     </td><td> 3.372729e-69</td></tr>\n",
       "\t<tr><th scope=row>LcapitalLoss</th><td> 1           </td><td>  55.41725   </td><td>35741        </td><td>23510.82     </td><td> 9.747724e-14</td></tr>\n",
       "\t<tr><th scope=row>ageQ</th><td> 4           </td><td> 460.29030   </td><td>35737        </td><td>23050.53     </td><td> 2.588910e-98</td></tr>\n",
       "\t<tr><th scope=row>hoursWeekQ</th><td> 2           </td><td> 115.47891   </td><td>35735        </td><td>22935.05     </td><td> 8.396004e-26</td></tr>\n",
       "\t<tr><th scope=row>Child</th><td> 1           </td><td>  47.33287   </td><td>35734        </td><td>22887.72     </td><td> 5.989944e-12</td></tr>\n",
       "</tbody>\n",
       "</table>\n"
      ],
      "text/latex": [
       "\\begin{tabular}{r|lllll}\n",
       "  & Df & Deviance & Resid. Df & Resid. Dev & Pr(>Chi)\\\\\n",
       "\\hline\n",
       "\tNULL & NA            &         NA    & 35771         & 40203.12      &            NA\\\\\n",
       "\tage &  1            & 1900.36292    & 35770         & 38302.75      &  0.000000e+00\\\\\n",
       "\tworkClass &  4            &  218.21840    & 35766         & 38084.54      &  4.532105e-46\\\\\n",
       "\teducation &  7            & 4196.09766    & 35759         & 33888.44      &  0.000000e+00\\\\\n",
       "\teducNum &  1            &   30.43103    & 35758         & 33858.01      &  3.459492e-08\\\\\n",
       "\tmariStat &  3            & 6238.45525    & 35755         & 27619.55      &  0.000000e+00\\\\\n",
       "\toccup &  6            &  849.67411    & 35749         & 26769.88      & 2.838387e-180\\\\\n",
       "\torigEthn &  1            &   14.33522    & 35748         & 26755.54      &  1.529757e-04\\\\\n",
       "\tcapitalGain &  2            & 2154.37072    & 35746         & 24601.17      &  0.000000e+00\\\\\n",
       "\tcapitalLoss &  2            &  353.34994    & 35744         & 24247.82      &  1.866535e-77\\\\\n",
       "\thoursWeek &  1            &  372.45050    & 35743         & 23875.37      &  5.478335e-83\\\\\n",
       "\tLcapitalGain &  1            &  309.13352    & 35742         & 23566.24      &  3.372729e-69\\\\\n",
       "\tLcapitalLoss &  1            &   55.41725    & 35741         & 23510.82      &  9.747724e-14\\\\\n",
       "\tageQ &  4            &  460.29030    & 35737         & 23050.53      &  2.588910e-98\\\\\n",
       "\thoursWeekQ &  2            &  115.47891    & 35735         & 22935.05      &  8.396004e-26\\\\\n",
       "\tChild &  1            &   47.33287    & 35734         & 22887.72      &  5.989944e-12\\\\\n",
       "\\end{tabular}\n"
      ],
      "text/markdown": [
       "\n",
       "| <!--/--> | Df | Deviance | Resid. Df | Resid. Dev | Pr(>Chi) |\n",
       "|---|---|---|---|---|---|\n",
       "| NULL | NA            |         NA    | 35771         | 40203.12      |            NA |\n",
       "| age |  1            | 1900.36292    | 35770         | 38302.75      |  0.000000e+00 |\n",
       "| workClass |  4            |  218.21840    | 35766         | 38084.54      |  4.532105e-46 |\n",
       "| education |  7            | 4196.09766    | 35759         | 33888.44      |  0.000000e+00 |\n",
       "| educNum |  1            |   30.43103    | 35758         | 33858.01      |  3.459492e-08 |\n",
       "| mariStat |  3            | 6238.45525    | 35755         | 27619.55      |  0.000000e+00 |\n",
       "| occup |  6            |  849.67411    | 35749         | 26769.88      | 2.838387e-180 |\n",
       "| origEthn |  1            |   14.33522    | 35748         | 26755.54      |  1.529757e-04 |\n",
       "| capitalGain |  2            | 2154.37072    | 35746         | 24601.17      |  0.000000e+00 |\n",
       "| capitalLoss |  2            |  353.34994    | 35744         | 24247.82      |  1.866535e-77 |\n",
       "| hoursWeek |  1            |  372.45050    | 35743         | 23875.37      |  5.478335e-83 |\n",
       "| LcapitalGain |  1            |  309.13352    | 35742         | 23566.24      |  3.372729e-69 |\n",
       "| LcapitalLoss |  1            |   55.41725    | 35741         | 23510.82      |  9.747724e-14 |\n",
       "| ageQ |  4            |  460.29030    | 35737         | 23050.53      |  2.588910e-98 |\n",
       "| hoursWeekQ |  2            |  115.47891    | 35735         | 22935.05      |  8.396004e-26 |\n",
       "| Child |  1            |   47.33287    | 35734         | 22887.72      |  5.989944e-12 |\n",
       "\n"
      ],
      "text/plain": [
       "             Df Deviance   Resid. Df Resid. Dev Pr(>Chi)     \n",
       "NULL         NA         NA 35771     40203.12              NA\n",
       "age           1 1900.36292 35770     38302.75    0.000000e+00\n",
       "workClass     4  218.21840 35766     38084.54    4.532105e-46\n",
       "education     7 4196.09766 35759     33888.44    0.000000e+00\n",
       "educNum       1   30.43103 35758     33858.01    3.459492e-08\n",
       "mariStat      3 6238.45525 35755     27619.55    0.000000e+00\n",
       "occup         6  849.67411 35749     26769.88   2.838387e-180\n",
       "origEthn      1   14.33522 35748     26755.54    1.529757e-04\n",
       "capitalGain   2 2154.37072 35746     24601.17    0.000000e+00\n",
       "capitalLoss   2  353.34994 35744     24247.82    1.866535e-77\n",
       "hoursWeek     1  372.45050 35743     23875.37    5.478335e-83\n",
       "LcapitalGain  1  309.13352 35742     23566.24    3.372729e-69\n",
       "LcapitalLoss  1   55.41725 35741     23510.82    9.747724e-14\n",
       "ageQ          4  460.29030 35737     23050.53    2.588910e-98\n",
       "hoursWeekQ    2  115.47891 35735     22935.05    8.396004e-26\n",
       "Child         1   47.33287 35734     22887.72    5.989944e-12"
      ]
     },
     "metadata": {},
     "output_type": "display_data"
    }
   ],
   "source": [
    "# estimation du modèle complet\n",
    "log_g.lm=glm(income~.,data=datApp[,-8],family=binomial)\n",
    "# significativité des paramètres\n",
    "anova(log_g.lm,test=\"Chisq\")"
   ]
  },
  {
   "cell_type": "code",
   "execution_count": 21,
   "metadata": {},
   "outputs": [
    {
     "data": {
      "text/plain": [
       "       \n",
       "        incHigh incLow\n",
       "  FALSE     876   6229\n",
       "  TRUE     1398    440"
      ]
     },
     "metadata": {},
     "output_type": "display_data"
    }
   ],
   "source": [
    "# Prévision\n",
    "pred_g.log=predict(log_g.lm,newdata=daTest[,-8],type=\"response\")\n",
    "# Matrice de confusion pour la prévision du \n",
    "# dépassement de seuil\n",
    "confMat=table(pred_g.log<0.5,daTest$income)\n",
    "confMat"
   ]
  },
  {
   "cell_type": "code",
   "execution_count": 22,
   "metadata": {},
   "outputs": [
    {
     "data": {
      "text/html": [
       "0.147154198814715"
      ],
      "text/latex": [
       "0.147154198814715"
      ],
      "text/markdown": [
       "0.147154198814715"
      ],
      "text/plain": [
       "[1] 0.1471542"
      ]
     },
     "metadata": {},
     "output_type": "display_data"
    }
   ],
   "source": [
    "(confMat[1,1]+confMat[2,2])/sum(confMat)"
   ]
  },
  {
   "cell_type": "markdown",
   "metadata": {},
   "source": [
    "La qualité de prévision est sensiblement la même.\n",
    "### 3.4 Régression logistique sans l'origine"
   ]
  },
  {
   "cell_type": "code",
   "execution_count": 23,
   "metadata": {},
   "outputs": [
    {
     "data": {
      "text/plain": [
       "       \n",
       "        incHigh incLow\n",
       "  FALSE     879   6228\n",
       "  TRUE     1395    441"
      ]
     },
     "metadata": {},
     "output_type": "display_data"
    },
    {
     "data": {
      "text/html": [
       "0.14760147601476"
      ],
      "text/latex": [
       "0.14760147601476"
      ],
      "text/markdown": [
       "0.14760147601476"
      ],
      "text/plain": [
       "[1] 0.1476015"
      ]
     },
     "metadata": {},
     "output_type": "display_data"
    }
   ],
   "source": [
    "# estimation du modèle complet\n",
    "log_o.lm=glm(income~.,data=datApp[,-7],family=binomial)\n",
    "# Prévision\n",
    "pred_o.log=predict(log_o.lm,newdata=daTest[,-7],type=\"response\")\n",
    "# Matrice de confusion pour la prévision du \n",
    "# dépassement de seuil\n",
    "confMat=table(pred_o.log<0.5,daTest$income)\n",
    "confMat; (confMat[1,1]+confMat[2,2])/sum(confMat)"
   ]
  },
  {
   "cell_type": "markdown",
   "metadata": {},
   "source": [
    "Même remarque."
   ]
  },
  {
   "cell_type": "code",
   "execution_count": 24,
   "metadata": {},
   "outputs": [
    {
     "data": {
      "text/html": [
       "0.85239852398524"
      ],
      "text/latex": [
       "0.85239852398524"
      ],
      "text/markdown": [
       "0.85239852398524"
      ],
      "text/plain": [
       "[1] 0.8523985"
      ]
     },
     "metadata": {},
     "output_type": "display_data"
    }
   ],
   "source": [
    "(confMat[1,2]+confMat[2,1])/sum(confMat)"
   ]
  },
  {
   "cell_type": "markdown",
   "metadata": {},
   "source": [
    "## 4 Estimation de l'effet disproportionné\n",
    "La notion d'effet dispropostionné est apparu aux USA en 1971 pour détecter des situations discriminatoires à l'embauche. Cette quantitaté est définie par le rapport:$\\frac{P(X=1|S=0)}{P(X=1|S=1)}$ de deux probabilités. La probabilité de bénéficier d'une situation ou décision favorable (revenu élevé) pour une personne du groupe protégé (femme, origine non caucasienne) sur la même probabilité pour une personne de l'autre groupe (homme, origine caucasienne).\n",
    "### 4.1 Fonction *disparate*\n",
    "Besse P. ,del Barrio E., Gordaliza P., Loubes J.-M. (2018-a). Confidence Intervals for testing Disparate Impact in Fair Learning, [arXiv](https://arxiv.org/abs/1807.06362).\n",
    "\n",
    "La  fonction ci-dessous a trois arguments pour estimer le disparate impact par intervalle de confiance.\n",
    "- une matrice $X$ de valeurs binaires $(0,1)$ dont la dernière colonne contient la décision ou cible à analyser;\n",
    "- l'indice $S$ de la variable de $X$ considérée comme sensible; \n",
    "- le risque de l'intervalle de confiance, par défaut 5%\n",
    "Elle renvoie un intervalle de confiance estimant la valeur $T_n$ du *disparate impact*."
   ]
  },
  {
   "cell_type": "code",
   "execution_count": 25,
   "metadata": {},
   "outputs": [
    {
     "data": {
      "text/html": [
       "<pre class=language-r><code>function (X, S, alpha = 0.05) \n",
       "{\n",
       "<span style=white-space:pre-wrap>    if (S &gt; ncol(X)) </span>\n",
       "<span style=white-space:pre-wrap>        stop(paste(\"L'argument S doit être compris entre 1 et \", </span>\n",
       "<span style=white-space:pre-wrap>            ncol(X) - 1))</span>\n",
       "<span style=white-space:pre-wrap>    n &lt;- nrow(X)</span>\n",
       "<span style=white-space:pre-wrap>    pi_1 &lt;- sum(X[, S])/n</span>\n",
       "<span style=white-space:pre-wrap>    pi_0 &lt;- 1 - pi_1</span>\n",
       "<span style=white-space:pre-wrap>    p_1 &lt;- sum(X[, S] * X[, ncol(X)])/n</span>\n",
       "<span style=white-space:pre-wrap>    p_0 &lt;- sum((1 - X[, S]) * X[, ncol(X)])/n</span>\n",
       "<span style=white-space:pre-wrap>    Tn &lt;- p_0 * pi_1/(p_1 * pi_0)</span>\n",
       "<span style=white-space:pre-wrap>    grad &lt;- grad_h(c(p_0, p_1, pi_0, pi_1))</span>\n",
       "<span style=white-space:pre-wrap>    Cov_4 &lt;- diag(rep(0, 4)) + cbind(c(0, -p_0 * p_1, pi_1 * </span>\n",
       "<span style=white-space:pre-wrap>        p_0, -pi_1 * p_0), c(0, 0, -pi_0 * p_1, pi_0 * p_1), </span>\n",
       "<span style=white-space:pre-wrap>        c(0, 0, 0, -pi_0 * pi_1), c(0, 0, 0, 0))</span>\n",
       "<span style=white-space:pre-wrap>    Cov_4 &lt;- Cov_4 + t(Cov_4) + diag(c(p_0 * (1 - p_0), p_1 * </span>\n",
       "<span style=white-space:pre-wrap>        (1 - p_1), pi_0 * pi_1, pi_0 * pi_1))</span>\n",
       "<span style=white-space:pre-wrap>    sigma &lt;- sqrt((grad %*% Cov_4) %*% t(t(grad)))</span>\n",
       "<span style=white-space:pre-wrap>    lower_lim &lt;- Tn - (sigma * qnorm(1 - alpha/2, mean = 0, sd = 1))/sqrt(n)</span>\n",
       "<span style=white-space:pre-wrap>    upper_lim &lt;- Tn + (sigma * qnorm(1 - alpha/2, mean = 0, sd = 1))/sqrt(n)</span>\n",
       "<span style=white-space:pre-wrap>    return(c(lower_lim, Tn, upper_lim))</span>\n",
       "}</code></pre>"
      ],
      "text/latex": [
       "\\begin{minted}{r}\n",
       "function (X, S, alpha = 0.05) \n",
       "\\{\n",
       "    if (S > ncol(X)) \n",
       "        stop(paste(\"L'argument S doit être compris entre 1 et \", \n",
       "            ncol(X) - 1))\n",
       "    n <- nrow(X)\n",
       "    pi\\_1 <- sum(X{[}, S{]})/n\n",
       "    pi\\_0 <- 1 - pi\\_1\n",
       "    p\\_1 <- sum(X{[}, S{]} * X{[}, ncol(X){]})/n\n",
       "    p\\_0 <- sum((1 - X{[}, S{]}) * X{[}, ncol(X){]})/n\n",
       "    Tn <- p\\_0 * pi\\_1/(p\\_1 * pi\\_0)\n",
       "    grad <- grad\\_h(c(p\\_0, p\\_1, pi\\_0, pi\\_1))\n",
       "    Cov\\_4 <- diag(rep(0, 4)) + cbind(c(0, -p\\_0 * p\\_1, pi\\_1 * \n",
       "        p\\_0, -pi\\_1 * p\\_0), c(0, 0, -pi\\_0 * p\\_1, pi\\_0 * p\\_1), \n",
       "        c(0, 0, 0, -pi\\_0 * pi\\_1), c(0, 0, 0, 0))\n",
       "    Cov\\_4 <- Cov\\_4 + t(Cov\\_4) + diag(c(p\\_0 * (1 - p\\_0), p\\_1 * \n",
       "        (1 - p\\_1), pi\\_0 * pi\\_1, pi\\_0 * pi\\_1))\n",
       "    sigma <- sqrt((grad \\%*\\% Cov\\_4) \\%*\\% t(t(grad)))\n",
       "    lower\\_lim <- Tn - (sigma * qnorm(1 - alpha/2, mean = 0, sd = 1))/sqrt(n)\n",
       "    upper\\_lim <- Tn + (sigma * qnorm(1 - alpha/2, mean = 0, sd = 1))/sqrt(n)\n",
       "    return(c(lower\\_lim, Tn, upper\\_lim))\n",
       "\\}\n",
       "\\end{minted}"
      ],
      "text/markdown": [
       "```r\n",
       "function (X, S, alpha = 0.05) \n",
       "{\n",
       "    if (S > ncol(X)) \n",
       "        stop(paste(\"L'argument S doit être compris entre 1 et \", \n",
       "            ncol(X) - 1))\n",
       "    n <- nrow(X)\n",
       "    pi_1 <- sum(X[, S])/n\n",
       "    pi_0 <- 1 - pi_1\n",
       "    p_1 <- sum(X[, S] * X[, ncol(X)])/n\n",
       "    p_0 <- sum((1 - X[, S]) * X[, ncol(X)])/n\n",
       "    Tn <- p_0 * pi_1/(p_1 * pi_0)\n",
       "    grad <- grad_h(c(p_0, p_1, pi_0, pi_1))\n",
       "    Cov_4 <- diag(rep(0, 4)) + cbind(c(0, -p_0 * p_1, pi_1 * \n",
       "        p_0, -pi_1 * p_0), c(0, 0, -pi_0 * p_1, pi_0 * p_1), \n",
       "        c(0, 0, 0, -pi_0 * pi_1), c(0, 0, 0, 0))\n",
       "    Cov_4 <- Cov_4 + t(Cov_4) + diag(c(p_0 * (1 - p_0), p_1 * \n",
       "        (1 - p_1), pi_0 * pi_1, pi_0 * pi_1))\n",
       "    sigma <- sqrt((grad %*% Cov_4) %*% t(t(grad)))\n",
       "    lower_lim <- Tn - (sigma * qnorm(1 - alpha/2, mean = 0, sd = 1))/sqrt(n)\n",
       "    upper_lim <- Tn + (sigma * qnorm(1 - alpha/2, mean = 0, sd = 1))/sqrt(n)\n",
       "    return(c(lower_lim, Tn, upper_lim))\n",
       "}\n",
       "```"
      ],
      "text/plain": [
       "function (X, S, alpha = 0.05) \n",
       "{\n",
       "    if (S > ncol(X)) \n",
       "        stop(paste(\"L'argument S doit être compris entre 1 et \", \n",
       "            ncol(X) - 1))\n",
       "    n <- nrow(X)\n",
       "    pi_1 <- sum(X[, S])/n\n",
       "    pi_0 <- 1 - pi_1\n",
       "    p_1 <- sum(X[, S] * X[, ncol(X)])/n\n",
       "    p_0 <- sum((1 - X[, S]) * X[, ncol(X)])/n\n",
       "    Tn <- p_0 * pi_1/(p_1 * pi_0)\n",
       "    grad <- grad_h(c(p_0, p_1, pi_0, pi_1))\n",
       "    Cov_4 <- diag(rep(0, 4)) + cbind(c(0, -p_0 * p_1, pi_1 * \n",
       "        p_0, -pi_1 * p_0), c(0, 0, -pi_0 * p_1, pi_0 * p_1), \n",
       "        c(0, 0, 0, -pi_0 * pi_1), c(0, 0, 0, 0))\n",
       "    Cov_4 <- Cov_4 + t(Cov_4) + diag(c(p_0 * (1 - p_0), p_1 * \n",
       "        (1 - p_1), pi_0 * pi_1, pi_0 * pi_1))\n",
       "    sigma <- sqrt((grad %*% Cov_4) %*% t(t(grad)))\n",
       "    lower_lim <- Tn - (sigma * qnorm(1 - alpha/2, mean = 0, sd = 1))/sqrt(n)\n",
       "    upper_lim <- Tn + (sigma * qnorm(1 - alpha/2, mean = 0, sd = 1))/sqrt(n)\n",
       "    return(c(lower_lim, Tn, upper_lim))\n",
       "}"
      ]
     },
     "metadata": {},
     "output_type": "display_data"
    }
   ],
   "source": [
    "source(\"disparate.R\")\n",
    "disparate"
   ]
  },
  {
   "cell_type": "markdown",
   "metadata": {},
   "source": [
    "### 4.2 *Disparate impact* de la base d'apprentissage\n",
    "Calculé sur les données initiales, le *disparate impact* met en évidence un biais social fort. Les variables sensibles sont le genre puis l'origine ethnique"
   ]
  },
  {
   "cell_type": "code",
   "execution_count": 26,
   "metadata": {},
   "outputs": [],
   "source": [
    "# Variable genre rendue entière: 0, 1\n",
    "s1= as.integer(datBas[,8])-1\n",
    "# variable origine ethnique rendue entière 0, 1\n",
    "s2= as.integer(datBas[,7])-1\n",
    "# Variable cible ou décision (seuil de revenu) également entière: 0, 1\n",
    "Y=as.numeric(datBas$income) \n",
    "Y[Y==2]=0\n",
    "coded_data=data.frame(s1,s2,Y)"
   ]
  },
  {
   "cell_type": "markdown",
   "metadata": {},
   "source": [
    "#### Ségrégation vis à vis du genre\n",
    "\n",
    "Le $DI$ est simplement estimé à partir de la table de contingence par le rapport:\n",
    "$\\frac{n_{21}}{(n_{11}+n_{21})}/\\frac{n_{22}}{(n_{12}+n_{22})}$ tandis que le risque de cette estimation est contrôlé par un intervalle de confiance à 95%."
   ]
  },
  {
   "cell_type": "code",
   "execution_count": 27,
   "metadata": {},
   "outputs": [
    {
     "data": {
      "text/html": [
       "<ol class=list-inline>\n",
       "\t<li>0.348986454548901</li>\n",
       "\t<li>0.366613514587488</li>\n",
       "\t<li>0.384240574626075</li>\n",
       "</ol>\n"
      ],
      "text/latex": [
       "\\begin{enumerate*}\n",
       "\\item 0.348986454548901\n",
       "\\item 0.366613514587488\n",
       "\\item 0.384240574626075\n",
       "\\end{enumerate*}\n"
      ],
      "text/markdown": [
       "1. 0.348986454548901\n",
       "2. 0.366613514587488\n",
       "3. 0.384240574626075\n",
       "\n",
       "\n"
      ],
      "text/plain": [
       "[1] 0.3489865 0.3666135 0.3842406"
      ]
     },
     "metadata": {},
     "output_type": "display_data"
    },
    {
     "name": "stdout",
     "output_type": "stream",
     "text": [
      "[1] 0.3666135\n"
     ]
    }
   ],
   "source": [
    "disparate(coded_data,1)\n",
    "DI_reel1 = disparate(coded_data,1)[2]\n",
    "print(DI_reel1)"
   ]
  },
  {
   "cell_type": "markdown",
   "metadata": {},
   "source": [
    "#### Ségrégation vis à vis de l'origine: caucasienne *vs.* autre. "
   ]
  },
  {
   "cell_type": "code",
   "execution_count": 28,
   "metadata": {},
   "outputs": [
    {
     "data": {
      "text/html": [
       "<ol class=list-inline>\n",
       "\t<li>0.565752011100096</li>\n",
       "\t<li>0.601336288521583</li>\n",
       "\t<li>0.63692056594307</li>\n",
       "</ol>\n"
      ],
      "text/latex": [
       "\\begin{enumerate*}\n",
       "\\item 0.565752011100096\n",
       "\\item 0.601336288521583\n",
       "\\item 0.63692056594307\n",
       "\\end{enumerate*}\n"
      ],
      "text/markdown": [
       "1. 0.565752011100096\n",
       "2. 0.601336288521583\n",
       "3. 0.63692056594307\n",
       "\n",
       "\n"
      ],
      "text/plain": [
       "[1] 0.5657520 0.6013363 0.6369206"
      ]
     },
     "metadata": {},
     "output_type": "display_data"
    },
    {
     "name": "stdout",
     "output_type": "stream",
     "text": [
      "[1] 0.6013363\n"
     ]
    }
   ],
   "source": [
    "disparate(coded_data,2)\n",
    "DI_reel2 = disparate(coded_data,2)[2]\n",
    "print(DI_reel2)"
   ]
  },
  {
   "cell_type": "markdown",
   "metadata": {},
   "source": [
    "Discrimination nettement plus importante selon le genre que selon l'origine ethnique."
   ]
  },
  {
   "cell_type": "markdown",
   "metadata": {},
   "source": [
    "### 4.3 *Disparate impact* des prévisions par régression logistique\n",
    "La valeur seuil de la probabilité de dépassement du seuil de revenu est fixée à 0.5."
   ]
  },
  {
   "cell_type": "code",
   "execution_count": 29,
   "metadata": {},
   "outputs": [],
   "source": [
    "Y=as.numeric(pred.log<0.5)\n",
    "Y[Y==2]=0\n",
    "coded_data=data.frame(s1[testi],s2[testi],Y)"
   ]
  },
  {
   "cell_type": "markdown",
   "metadata": {},
   "source": [
    "#### Avec régression logistique et par genre\n",
    "La prévision reproduit et même renforce statistiquement le biais social pour le genre."
   ]
  },
  {
   "cell_type": "code",
   "execution_count": 30,
   "metadata": {},
   "outputs": [
    {
     "data": {
      "text/html": [
       "<ol class=list-inline>\n",
       "\t<li>0.186388602139184</li>\n",
       "\t<li>0.21974581208428</li>\n",
       "\t<li>0.253103022029376</li>\n",
       "</ol>\n"
      ],
      "text/latex": [
       "\\begin{enumerate*}\n",
       "\\item 0.186388602139184\n",
       "\\item 0.21974581208428\n",
       "\\item 0.253103022029376\n",
       "\\end{enumerate*}\n"
      ],
      "text/markdown": [
       "1. 0.186388602139184\n",
       "2. 0.21974581208428\n",
       "3. 0.253103022029376\n",
       "\n",
       "\n"
      ],
      "text/plain": [
       "[1] 0.1863886 0.2197458 0.2531030"
      ]
     },
     "metadata": {},
     "output_type": "display_data"
    }
   ],
   "source": [
    "disparate(coded_data,1)"
   ]
  },
  {
   "cell_type": "markdown",
   "metadata": {},
   "source": [
    "#### Avec régression logistique et par origine\n",
    "Le renforcement du biais selon l'origine n'est pas statistiquement significatif."
   ]
  },
  {
   "cell_type": "code",
   "execution_count": 31,
   "metadata": {},
   "outputs": [
    {
     "data": {
      "text/html": [
       "<ol class=list-inline>\n",
       "\t<li>0.375606033902209</li>\n",
       "\t<li>0.452952336448598</li>\n",
       "\t<li>0.530298638994987</li>\n",
       "</ol>\n"
      ],
      "text/latex": [
       "\\begin{enumerate*}\n",
       "\\item 0.375606033902209\n",
       "\\item 0.452952336448598\n",
       "\\item 0.530298638994987\n",
       "\\end{enumerate*}\n"
      ],
      "text/markdown": [
       "1. 0.375606033902209\n",
       "2. 0.452952336448598\n",
       "3. 0.530298638994987\n",
       "\n",
       "\n"
      ],
      "text/plain": [
       "[1] 0.3756060 0.4529523 0.5302986"
      ]
     },
     "metadata": {},
     "output_type": "display_data"
    }
   ],
   "source": [
    "disparate(coded_data,2)"
   ]
  },
  {
   "cell_type": "markdown",
   "metadata": {},
   "source": [
    "### 4.4 *Disparate impact* des prévisions sans la variable sensible\n",
    "Le genre ou l'origine ethnique impacte le type d'activité et en conséquence le revenu. Aussi, supprimer la variable sensible du modèle ne suffit évidemment pas à réduire le biais discirminatoire.\n",
    "#### Avec la régression et par genre"
   ]
  },
  {
   "cell_type": "code",
   "execution_count": 32,
   "metadata": {},
   "outputs": [
    {
     "data": {
      "text/html": [
       "<ol class=list-inline>\n",
       "\t<li>0.191646985667623</li>\n",
       "\t<li>0.225487309358277</li>\n",
       "\t<li>0.259327633048932</li>\n",
       "</ol>\n"
      ],
      "text/latex": [
       "\\begin{enumerate*}\n",
       "\\item 0.191646985667623\n",
       "\\item 0.225487309358277\n",
       "\\item 0.259327633048932\n",
       "\\end{enumerate*}\n"
      ],
      "text/markdown": [
       "1. 0.191646985667623\n",
       "2. 0.225487309358277\n",
       "3. 0.259327633048932\n",
       "\n",
       "\n"
      ],
      "text/plain": [
       "[1] 0.1916470 0.2254873 0.2593276"
      ]
     },
     "metadata": {},
     "output_type": "display_data"
    }
   ],
   "source": [
    "Y=as.numeric(pred_g.log<0.5)\n",
    "Y[Y==2]=0\n",
    "coded_data=data.frame(s1[testi],s2[testi],Y)\n",
    "disparate(coded_data,1)"
   ]
  },
  {
   "cell_type": "markdown",
   "metadata": {},
   "source": [
    "#### Avec la régression et par origine"
   ]
  },
  {
   "cell_type": "code",
   "execution_count": 33,
   "metadata": {},
   "outputs": [
    {
     "data": {
      "text/html": [
       "<ol class=list-inline>\n",
       "\t<li>0.400841380215612</li>\n",
       "\t<li>0.480643100411039</li>\n",
       "\t<li>0.560444820606466</li>\n",
       "</ol>\n"
      ],
      "text/latex": [
       "\\begin{enumerate*}\n",
       "\\item 0.400841380215612\n",
       "\\item 0.480643100411039\n",
       "\\item 0.560444820606466\n",
       "\\end{enumerate*}\n"
      ],
      "text/markdown": [
       "1. 0.400841380215612\n",
       "2. 0.480643100411039\n",
       "3. 0.560444820606466\n",
       "\n",
       "\n"
      ],
      "text/plain": [
       "[1] 0.4008414 0.4806431 0.5604448"
      ]
     },
     "metadata": {},
     "output_type": "display_data"
    }
   ],
   "source": [
    "Y=as.numeric(pred_o.log<0.5)\n",
    "Y[Y==2]=0\n",
    "coded_data=data.frame(s1[testi],s2[testi],Y)\n",
    "disparate(coded_data,2)"
   ]
  },
  {
   "cell_type": "markdown",
   "metadata": {},
   "source": [
    "La réduction du *disparate impact* obtenue en supprimant la variable sensible n'est pas statistiquement significative de même que les erreurs de prévisions restent stables. Le déterminisme social est plus fort que la présence de la variable sensible: *une femme ou une personne non caucasienne travaille moins ou de façon moins qualifiée quelque soit son niveau d'éducation*. "
   ]
  },
  {
   "cell_type": "markdown",
   "metadata": {},
   "source": [
    "### 4.5 Faux positifs et négatifs selon la variable sensible (cf. Propublica)\n",
    "Une autre source de discrimination, mise en évidence par le site [Propublica](https://www.propublica.org/article/machine-bias-risk-assessments-in-criminal-sentencing) à propos du score de récidive,  concerne une inversion du déséquilibre de la matrice de confusion selon la variable sensible; comparer les nombre de faux positifs ou faux négatifs selon le genre ou l'origine.\n",
    "#### Par genre"
   ]
  },
  {
   "cell_type": "code",
   "execution_count": 34,
   "metadata": {},
   "outputs": [
    {
     "data": {
      "text/plain": [
       ", ,  = Female\n",
       "\n",
       "       \n",
       "        incHigh incLow\n",
       "  FALSE     166   2486\n",
       "  TRUE      139     30\n",
       "\n",
       ", ,  = Male\n",
       "\n",
       "       \n",
       "        incHigh incLow\n",
       "  FALSE     711   3742\n",
       "  TRUE     1258    411\n"
      ]
     },
     "metadata": {},
     "output_type": "display_data"
    }
   ],
   "source": [
    "table(pred.log<0.5,daTest$income,daTest$sex)"
   ]
  },
  {
   "cell_type": "markdown",
   "metadata": {},
   "source": [
    "Alors que, pour les hommes, le taux de faux positifs est assez similaire au taux de faux négatifs, pour les femmes, il est sensiblement plus fréquent de se tromper en prévoyant un revenu bas alors qu'il est élevé.\n",
    "#### Par origine"
   ]
  },
  {
   "cell_type": "code",
   "execution_count": 35,
   "metadata": {},
   "outputs": [
    {
     "data": {
      "text/plain": [
       ", ,  = CaucNo\n",
       "\n",
       "       \n",
       "        incHigh incLow\n",
       "  FALSE     100     33\n",
       "  TRUE       76   1041\n",
       "\n",
       ", ,  = CaucYes\n",
       "\n",
       "       \n",
       "        incHigh incLow\n",
       "  FALSE    1295    408\n",
       "  TRUE      803   5187\n"
      ]
     },
     "metadata": {},
     "output_type": "display_data"
    }
   ],
   "source": [
    "table(pred_o.log>0.5,daTest$income,daTest$origEthn)"
   ]
  },
  {
   "cell_type": "markdown",
   "metadata": {},
   "source": [
    "Pas facile à interpréter..."
   ]
  },
  {
   "cell_type": "markdown",
   "metadata": {},
   "source": [
    "## 5 Sensibilité au *testing* et correction\n",
    "### 5.1 Introduction\n",
    "\n",
    "#### [Historique](https://fr.wikipedia.org/wiki/Test_de_discrimination)\n",
    "depuis 1939 en France pour les boîtes de nuit.\n",
    "\n",
    "#### [Validité juridique](https://www.juritravail.com/discrimination-physique/embauche/ph-alternative-A-1.html) \n",
    "du *testing* accepté comme preuve de discrimiantion depuis 2016.\n",
    "\n",
    "#### Approches sociologiques \n",
    "Le test de discrimination ou *testing* automatique est pratiquée en France de façon systématique pour des études sociologiques par l'[Observatoire des discriminations](http://www.observatoiredesdiscriminations.fr/testing), le laboratoire TEPP: [L'Horty et al. (2017)](http://www.tepp.eu/doc/users/268/bib/banque-et-assurance_9025.pdf), ou pilotée par la [DARES](http://dares.travail-emploi.gouv.fr/dares-etudes-et-statistiques/etudes-et-syntheses/dares-analyses-dares-indicateurs-dares-resultats/testing) du ministère du travail en lien avec l'association [ISM Corum](http://www.ismcorum.org/).... Certains entreprises demandent d'ailleurs à ISM Corum de [tester leur mode de recrutement](http://www.ismcorum.org/le-testing-d-entreprise-%E2%80%93-temoignages-d-adecco-casino-lvmh-michael-page-M22-R22-A443.html). Il serait sans doute intéressant de disposer des données brutes sur l'enquête citée mais seules les [tableaux agrégés](http://dares.travail-emploi.gouv.fr/IMG/xls/donnees_a_telecharger-_dares_analyses_no076.xls) sont accessibles. \n",
    "\n",
    "*Remarques*: des groupes à contacter?\n",
    "- l'observatoire des discriminations propose un [audit qualité](http://www.observatoiredesdiscriminations.fr/diagnostics-qualite) des procédures de recrutement. \n",
    "- [Novethic](https://www.novethic.fr/lexique/detail/testing.html), filliale de la caisse des dépôts et consignation, donnent des formations pour des entreprises \"éthiques\".\n",
    "\n",
    "#### *Testing* et estimation du biais\n",
    "Dans un autre ordre d'idée, [Galhotra et al. (2017)](https://arxiv.org/abs/1709.03221) définissent le biais d'une décision en incluant une notion de causalité. Le logiciel afférent ([Themis](https://github.com/LASER-UMASS/Themis)) opère un *testing* de logiciels ou décisions automatiques dans le but d'évaluer les proportions d'individus virtuels discriminés permettant d'estimer ce critère de biais. Les individus virtuels sont générés par permutation aléatoire des valeurs prises pour les modalités des variables explicatives nécessairement qualitatives ou découpées en classe.\n",
    "\n",
    "#### *Testing* rudimentaire\n",
    "Analysons la robustesse des deux modèles à une opération de *testing* rudimentaire: un nouvel échantillon test est construit en *échangeant les deux modalités de la variables sensible*. La variable cible (seuil de revenu) est ensuite reprédite par le modèle initial donné. \n",
    "\n",
    "*Question*: Des prévisions sont elles modifiés et pour quels individus?\n",
    "\n",
    "Existe-t-il des personnes pour lesquelles le seul changement de genre ou d'origine a pour effet de changer la prévision du seuil de revenu `income`? \n",
    "\n",
    "C'est en effet parmi ces personnes de l'échantillon test que se trouvent celles discriminées par la décision apprise et donc susceptibles d'une action en justice lorsque la décision algorihtmique (*e.g.* accès au crédit, à l'assurance, à l'amploi...) impacte cette personne. Cette discrimination individuelle peut en effet peut en effet être mise en évidence contrairement à la discrimination vis à vis d'un groupe dont il n'existe pas de définition ou de caractérisation. \n",
    "\n",
    "Evidemment, comme pour l'estimation du *disparate impact*, il est nécessaire de disposer de la variable sensible (genre ou origine) pour pouvoir opérer du *testing*.\n",
    "\n",
    "\n",
    "### 5.2 Personnes discriminées selon leur genre\n",
    "\n",
    "Le comportement des deux prédicteurs est différent mais assez logiquement. Le prédicteur linéaire (logistique) est monotone vis à vis du changement de genre ou d'origine tandis que le modèle non linéaire (rf) produit des résultats assez erratiques.\n",
    "\n",
    "#### Modification de l'échantillon et prévisions."
   ]
  },
  {
   "cell_type": "code",
   "execution_count": 36,
   "metadata": {},
   "outputs": [],
   "source": [
    "daTest2=daTest\n",
    "daTest2$sex=as.factor(ifelse(daTest$sex==\"Male\",\"Female\",\"Male\"))\n",
    "# Prévision du \"nouvel\" échantillon test\n",
    "pred2.log=predict(log.lm,daTest2,type=\"response\")"
   ]
  },
  {
   "cell_type": "markdown",
   "metadata": {},
   "source": [
    "#### Dans le cas de la régression logistique\n",
    "La situation est tranchée."
   ]
  },
  {
   "cell_type": "code",
   "execution_count": 37,
   "metadata": {},
   "outputs": [
    {
     "data": {
      "text/plain": [
       "       \n",
       "        FALSE TRUE\n",
       "  FALSE  7098    7\n",
       "  TRUE     64 1774"
      ]
     },
     "metadata": {},
     "output_type": "display_data"
    }
   ],
   "source": [
    "table(pred.log<0.5,pred2.log<0.5)"
   ]
  },
  {
   "cell_type": "markdown",
   "metadata": {},
   "source": [
    "Même chose mais répartition par genre."
   ]
  },
  {
   "cell_type": "code",
   "execution_count": 38,
   "metadata": {},
   "outputs": [
    {
     "data": {
      "text/plain": [
       ", ,  = Female\n",
       "\n",
       "       \n",
       "        FALSE TRUE\n",
       "  FALSE  2645    7\n",
       "  TRUE      0  169\n",
       "\n",
       ", ,  = Male\n",
       "\n",
       "       \n",
       "        FALSE TRUE\n",
       "  FALSE  4453    0\n",
       "  TRUE     64 1605\n"
      ]
     },
     "metadata": {},
     "output_type": "display_data"
    }
   ],
   "source": [
    "table(pred.log<0.5,pred2.log<0.5,daTest$sex)"
   ]
  },
  {
   "cell_type": "markdown",
   "metadata": {},
   "source": [
    "**N.B.** Il n'y a cette fois plus que 94 personnes dont la prévision de revenu change lorsqu'elles changent de genre. Et le changement est dans le sens attendu.\n",
    "- 10 femmes qui passent d'une prévision de revenu faible à une prévision de revenu élevé\n",
    "- 84 hommes qui prennnent le chemin inverse (discrimination initiale positive) lorsqu'ils deviennent des femmes."
   ]
  },
  {
   "cell_type": "code",
   "execution_count": 39,
   "metadata": {},
   "outputs": [
    {
     "data": {
      "text/html": [
       "<dl class=dl-horizontal>\n",
       "\t<dt>17410</dt>\n",
       "\t\t<dd>1593</dd>\n",
       "\t<dt>39536</dt>\n",
       "\t\t<dd>2330</dd>\n",
       "\t<dt>13116</dt>\n",
       "\t\t<dd>4896</dd>\n",
       "\t<dt>1498</dt>\n",
       "\t\t<dd>7242</dd>\n",
       "\t<dt>17647</dt>\n",
       "\t\t<dd>7254</dd>\n",
       "\t<dt>35492</dt>\n",
       "\t\t<dd>7578</dd>\n",
       "\t<dt>15290</dt>\n",
       "\t\t<dd>8192</dd>\n",
       "</dl>\n"
      ],
      "text/latex": [
       "\\begin{description*}\n",
       "\\item[17410] 1593\n",
       "\\item[39536] 2330\n",
       "\\item[13116] 4896\n",
       "\\item[1498] 7242\n",
       "\\item[17647] 7254\n",
       "\\item[35492] 7578\n",
       "\\item[15290] 8192\n",
       "\\end{description*}\n"
      ],
      "text/markdown": [
       "17410\n",
       ":   159339536\n",
       ":   233013116\n",
       ":   48961498\n",
       ":   724217647\n",
       ":   725435492\n",
       ":   757815290\n",
       ":   8192\n",
       "\n"
      ],
      "text/plain": [
       "17410 39536 13116  1498 17647 35492 15290 \n",
       " 1593  2330  4896  7242  7254  7578  8192 "
      ]
     },
     "metadata": {},
     "output_type": "display_data"
    }
   ],
   "source": [
    "which(pred.log>0.5&pred2.log<0.5&daTest$sex==\"Female\")  # 10 femmes dans ce cas"
   ]
  },
  {
   "cell_type": "code",
   "execution_count": 40,
   "metadata": {},
   "outputs": [
    {
     "data": {
      "text/html": [],
      "text/latex": [],
      "text/markdown": [],
      "text/plain": [
       "named integer(0)"
      ]
     },
     "metadata": {},
     "output_type": "display_data"
    }
   ],
   "source": [
    "which(pred.log>0.5&pred2.log<0.5&daTest$sex==\"Male\") # 0 homme dans ce cas"
   ]
  },
  {
   "cell_type": "markdown",
   "metadata": {},
   "source": [
    "### 5.3 Personnes discriminées selon leur origine\n",
    "Mêmes calculs vis-à-vis de la variable sensible origine.\n",
    "#### Modification de l'échantillon et prévisions"
   ]
  },
  {
   "cell_type": "code",
   "execution_count": 41,
   "metadata": {},
   "outputs": [],
   "source": [
    "daTest3=daTest\n",
    "daTest3$origEthn=as.factor(ifelse(daTest$origEthn==\"CaucYes\",\"CaucNo\",\"CaucYes\"))\n",
    "# Prévision du \"nouvel\" échantillon test\n",
    "pred3.log=predict(log.lm,newdata=daTest3,type=\"response\")"
   ]
  },
  {
   "cell_type": "markdown",
   "metadata": {},
   "source": [
    "#### Dans le cas de la régression logisitique\n",
    "Comme pour la discrimination selon le genre, la détection de personnes discriminées selon leur origine est nette. Les prévisions de seuil de revenu de 160 personnes sont affectées par le changement d'origine.\n",
    "- 12 sont discriminées par leur origine\n",
    "- 148 bénéficient d'une discrimination positive"
   ]
  },
  {
   "cell_type": "code",
   "execution_count": 42,
   "metadata": {},
   "outputs": [
    {
     "data": {
      "text/plain": [
       "       \n",
       "        FALSE TRUE\n",
       "  FALSE  7098    7\n",
       "  TRUE    184 1654"
      ]
     },
     "metadata": {},
     "output_type": "display_data"
    }
   ],
   "source": [
    "table(pred.log<0.5,pred3.log<0.5)"
   ]
  },
  {
   "cell_type": "code",
   "execution_count": 43,
   "metadata": {},
   "outputs": [
    {
     "data": {
      "text/plain": [
       ", ,  = CaucNo\n",
       "\n",
       "       \n",
       "        FALSE TRUE\n",
       "  FALSE  1117    7\n",
       "  TRUE      0  126\n",
       "\n",
       ", ,  = CaucYes\n",
       "\n",
       "       \n",
       "        FALSE TRUE\n",
       "  FALSE  5981    0\n",
       "  TRUE    184 1528\n"
      ]
     },
     "metadata": {},
     "output_type": "display_data"
    }
   ],
   "source": [
    "table(pred.log<0.5,pred3.log<0.5,daTest$origEthn)"
   ]
  },
  {
   "cell_type": "markdown",
   "metadata": {},
   "source": []
  },
  {
   "cell_type": "code",
   "execution_count": 44,
   "metadata": {},
   "outputs": [
    {
     "data": {
      "text/plain": [
       ", ,  = Female,  = incHigh\n",
       "\n",
       "       \n",
       "        FALSE TRUE\n",
       "  FALSE   163    3\n",
       "  TRUE      0  139\n",
       "\n",
       ", ,  = Male,  = incHigh\n",
       "\n",
       "       \n",
       "        FALSE TRUE\n",
       "  FALSE   711    0\n",
       "  TRUE     34 1224\n",
       "\n",
       ", ,  = Female,  = incLow\n",
       "\n",
       "       \n",
       "        FALSE TRUE\n",
       "  FALSE  2482    4\n",
       "  TRUE      0   30\n",
       "\n",
       ", ,  = Male,  = incLow\n",
       "\n",
       "       \n",
       "        FALSE TRUE\n",
       "  FALSE  3742    0\n",
       "  TRUE     30  381\n"
      ]
     },
     "metadata": {},
     "output_type": "display_data"
    }
   ],
   "source": [
    "table(pred.log<0.5,pred2.log<0.5,daTest$sex,daTest$income)"
   ]
  },
  {
   "cell_type": "markdown",
   "metadata": {},
   "source": [
    "Réponse: de façon homogène. M"
   ]
  },
  {
   "cell_type": "markdown",
   "metadata": {},
   "source": [
    "#### Variable sensible origine"
   ]
  },
  {
   "cell_type": "code",
   "execution_count": 45,
   "metadata": {},
   "outputs": [
    {
     "data": {
      "text/plain": [
       ", ,  = CaucNo,  = incHigh\n",
       "\n",
       "       \n",
       "        FALSE TRUE\n",
       "  FALSE    79    0\n",
       "  TRUE      4   93\n",
       "\n",
       ", ,  = CaucYes,  = incHigh\n",
       "\n",
       "       \n",
       "        FALSE TRUE\n",
       "  FALSE   795    3\n",
       "  TRUE     30 1270\n",
       "\n",
       ", ,  = CaucNo,  = incLow\n",
       "\n",
       "       \n",
       "        FALSE TRUE\n",
       "  FALSE  1045    0\n",
       "  TRUE      3   26\n",
       "\n",
       ", ,  = CaucYes,  = incLow\n",
       "\n",
       "       \n",
       "        FALSE TRUE\n",
       "  FALSE  5179    4\n",
       "  TRUE     27  385\n"
      ]
     },
     "metadata": {},
     "output_type": "display_data"
    }
   ],
   "source": [
    "table(pred.log<0.5,pred2.log<0.5,daTest$origEthn,daTest$income)"
   ]
  },
  {
   "cell_type": "markdown",
   "metadata": {},
   "source": [
    "#### *Local fair prediction error* \n",
    "Pour la régession logistique, fixer comme probablité prédite le minimium des deux probablités obtenues en échangeant les modalités de la variable sensible. De façon générale, quelques soit le prédicteur, choisir la situaiton plus favorable pour la personne, quelque soit le genre (resp. l'origine) observé. La discimination individuelle repérable par *testing* est neutralisée et l'influence sur le taux d'erreur quasi négligeable; n'induire éventuellement que de la *discrimination positive* pour le groupe sensible si cela améliore le taux d'erreur global.\n",
    "\n",
    "*Régression logistique et genre*"
   ]
  },
  {
   "cell_type": "code",
   "execution_count": 46,
   "metadata": {},
   "outputs": [
    {
     "data": {
      "text/plain": [
       "       \n",
       "        incHigh incLow\n",
       "  FALSE     874   6224\n",
       "  TRUE     1400    445"
      ]
     },
     "metadata": {},
     "output_type": "display_data"
    },
    {
     "data": {
      "text/html": [
       "0.147489656714749"
      ],
      "text/latex": [
       "0.147489656714749"
      ],
      "text/markdown": [
       "0.147489656714749"
      ],
      "text/plain": [
       "[1] 0.1474897"
      ]
     },
     "metadata": {},
     "output_type": "display_data"
    }
   ],
   "source": [
    "predict.fairRegLog=ifelse(pred.log<pred2.log,pred.log,pred2.log)\n",
    "confMat=table(predict.fairRegLog<0.5,daTest$income)\n",
    "confMat;(confMat[1,1]+confMat[2,2])/sum(confMat)"
   ]
  },
  {
   "cell_type": "markdown",
   "metadata": {},
   "source": [
    "*Régression logistique et origine*"
   ]
  },
  {
   "cell_type": "code",
   "execution_count": 47,
   "metadata": {},
   "outputs": [
    {
     "data": {
      "text/plain": [
       "       \n",
       "        incHigh incLow\n",
       "  FALSE     874   6224\n",
       "  TRUE     1400    445"
      ]
     },
     "metadata": {},
     "output_type": "display_data"
    },
    {
     "data": {
      "text/html": [
       "0.147489656714749"
      ],
      "text/latex": [
       "0.147489656714749"
      ],
      "text/markdown": [
       "0.147489656714749"
      ],
      "text/plain": [
       "[1] 0.1474897"
      ]
     },
     "metadata": {},
     "output_type": "display_data"
    }
   ],
   "source": [
    "predict.fairRegLog=ifelse(pred.log<pred3.log,pred.log,pred3.log)\n",
    "confMat=table(predict.fairRegLog<0.5,daTest$income)\n",
    "confMat;(confMat[1,1]+confMat[2,2])/sum(confMat)"
   ]
  },
  {
   "cell_type": "markdown",
   "metadata": {},
   "source": [
    "Pour la régresison logistique, la correction qui rend la décision localement loyale c'est-à-dire en supprimant tout discrimination individuelle n'a qu'un impact très marginal sur l'erreur de prévision. \n",
    "\n",
    "Qu'en est-il de la correction de l'effet disproportionné?"
   ]
  },
  {
   "cell_type": "markdown",
   "metadata": {},
   "source": [
    "## 6 Correction du biais par modification des seuils de décision\n",
    "L'idée consiste à simplement abaisser le seuil (0.5 par défaut) de décision de la régression logistique pour rendre celle-ci plus favorable au groupe sensible et donc d'introduire une forme de discrimination positive afin de corriger le biais.\n",
    "\n",
    "**Questions**:\n",
    "Quelle valeur apporter pour réduire significativement le biais afin que \n",
    "1. la régression logistique ne fasse que reproduire celui des données.\n",
    "2. la borne supérieur de l'IC du DI soit plus grande que 0/8\n",
    "\n",
    "Tracer deux courbes motrant l'évolution du DI (de son intervalle de confiance) et celle de l'erreur de prévision en fonction de la valeur de ce seuil."
   ]
  },
  {
   "cell_type": "code",
   "execution_count": 48,
   "metadata": {},
   "outputs": [],
   "source": [
    "testih = which(daTest$sex==\"Male\")\n",
    "testif = which(daTest$sex==\"Female\")\n",
    "daTestf=daTest[testif,]\n",
    "daTesth=daTest[testih,]\n",
    "\n",
    "log.lm=glm(income~.,data=datApp,family=binomial)\n",
    "# Prévision\n",
    "pred.logTest=predict(log.lm,newdata=daTest,type=\"response\")\n",
    "\n",
    "# Prévision\n",
    "#pred.logh=predict(log.lm,newdata=daTest,type=\"response\")\n"
   ]
  },
  {
   "cell_type": "code",
   "execution_count": 60,
   "metadata": {},
   "outputs": [
    {
     "name": "stdout",
     "output_type": "stream",
     "text": [
      "[1] 0.09324983\n"
     ]
    },
    {
     "data": {
      "image/png": "[encoded data removed]",
      "text/plain": [
       "Plot with title “Evolution of the DI and the error rate for variable sex \n",
       " as a function of the threshold for category Female with a threshold for category Male fixed at 0.5”"
      ]
     },
     "metadata": {},
     "output_type": "display_data"
    }
   ],
   "source": [
    "seuil = seq(0.05,0.9,by=10e-3)\n",
    "\n",
    "testseuil = function(seuil1, seuil2, daTest1, daTest2,testi1, testi2, indice, pred.log){\n",
    "\n",
    "      \n",
    "    Y1=as.numeric(pred.log[testi1]<seuil1)\n",
    "    Y2=as.numeric(pred.log[testi2]<seuil2)\n",
    "    Y1[Y1==2]=0\n",
    "    Y2[Y2==2]=0\n",
    "    \n",
    "   \n",
    "    s11 = as.integer(daTest1[,8])-1\n",
    "    s12 = as.integer(daTest1[,7])-1\n",
    "    s21 = as.integer(daTest2[,8])-1\n",
    "    s22 = as.integer(daTest2[,7])-1\n",
    "    \n",
    "    coded_data1=data.frame(\"s1\"=s11,\"s2\"=s12,\"Y\"=Y1)\n",
    "    coded_data2=data.frame(\"s1\"=s21,\"s2\"=s22,\"Y\"=Y2)\n",
    "    coded_data <- rbind(coded_data1, coded_data2)\n",
    "    \n",
    "    di = disparate(coded_data,indice)\n",
    "    \n",
    "    confMat1=table(pred.log[testi1]<seuil1,daTest1$income)\n",
    "    erreur1 = (confMat1[1,1]+confMat1[2,2])/sum(confMat1)\n",
    "    confMat2=table(pred.log[testi2]<seuil2,daTest2$income)\n",
    "    erreur2 = (confMat2[1,1]+confMat2[2,2])/sum(confMat2)\n",
    "    \n",
    "    return (c(di[1],di[2],di[3], erreur1, erreur2))\n",
    "}\n",
    "\n",
    "testDI = list()\n",
    "erreur = list()\n",
    "for (k in seuil){\n",
    "    ts = testseuil(k, 0.5, daTestf, daTesth,testif, testih, 1, pred.logTest1)\n",
    "    testDI = rbind(testDI,ts[c(1,2,3)])\n",
    "    erreur = rbind(erreur, ts[4])\n",
    "}\n",
    "\n",
    "\n",
    "\n",
    "moyen = as.numeric(testDI[,2])\n",
    "sup = as.numeric(testDI[,3])\n",
    "inf = as.numeric(testDI[,1])\n",
    "plot(NULL,NULL,xlim=c(min(seuil),max(seuil)),ylim=c(min(inf),max(sup)),\n",
    "xlab=\"threshold for category Female\",ylab=\"Disparate impact\", main=\"Evolution of the DI and the error rate for variable sex \\n as a function of the threshold for category Female with a threshold for category Male fixed at 0.5\", cex.main=0.7)\n",
    "\n",
    "\n",
    "\n",
    "## Intervalle de confiance [0.025;0.975]\n",
    "polygon(x=c(seuil,rev(seuil)),y=c(inf,rev(sup)),col=\"grey\",border=NA)\n",
    "lines(seuil,moyen,lwd=2,col=\"blue\")\n",
    "abline(0.8, 0, col='red')\n",
    "lines(seuil, erreur, col='green')\n",
    "abline(DI_reel1, 0, col='black')\n",
    "legend(0.1,1,legend=c(\"DI\", \"y = 0.8\", \"error rate\",\"DI of test sample\"),\n",
    "       col=c(\"blue\", \"red\", \"green\",\"black\"), lty=1, cex=0.8)\n",
    "confMat1=table(pred.logTest1[testif]<0.8,daTestf$income)\n",
    "print((confMat1[1,1]+confMat1[2,2])/sum(confMat1))"
   ]
  },
  {
   "cell_type": "code",
   "execution_count": 61,
   "metadata": {
    "scrolled": false
   },
   "outputs": [
    {
     "name": "stdout",
     "output_type": "stream",
     "text": [
      "[1] 0.1188359\n"
     ]
    },
    {
     "data": {
      "image/png": "[encoded data removed]",
      "text/plain": [
       "Plot with title “Evolution of the DI and the error rate for variable origEthn \n",
       " as a function of the threshold for category CaucNo with a threshold for category CaucYes fixed at 0.5”"
      ]
     },
     "metadata": {},
     "output_type": "display_data"
    }
   ],
   "source": [
    "seuil = seq(0.05,0.9,by=10e-3)\n",
    "\n",
    "testin = which(daTest$origEthn==\"CaucNo\")\n",
    "testiy = which(daTest$origEthn==\"CaucYes\")\n",
    "daTestn=daTest[testin,]\n",
    "daTesty=daTest[testiy,]\n",
    "\n",
    "# Prévision\n",
    "#pred.logCau=predict(log.lm,newdata=daTest,type=\"response\")\n",
    "\n",
    "# Prévision\n",
    "#pred.logy=predict(log.lm,newdata=daTesty,type=\"response\")\n",
    "\n",
    "testDI2 = list()\n",
    "erreur2 = list()\n",
    "for (k in seuil){\n",
    "    ts = testseuil(k, 0.5, daTestn, daTesty, testin, testiy, 2, pred.logTest1)\n",
    "    testDI2 = rbind(testDI2,ts[c(1,2,3)])\n",
    "    erreur2 = rbind(erreur2, ts[4])\n",
    "}\n",
    "\n",
    "\n",
    "moyen = as.numeric(testDI2[,2])\n",
    "sup = as.numeric(testDI2[,3])\n",
    "inf = as.numeric(testDI2[,1])\n",
    "plot(NULL,NULL,xlim=c(min(seuil),max(seuil)),ylim=c(min(inf),max(sup)),\n",
    "xlab=\"threshold for category CaucNo \",ylab=\"Disparate impact\", main=\"Evolution of the DI and the error rate for variable origEthn \\n as a function of the threshold for category CaucNo with a threshold for category CaucYes fixed at 0.5\",cex.main=0.7)\n",
    "\n",
    "## Intervalle de confiance [0.025;0.975]\n",
    "polygon(x=c(seuil,rev(seuil)),y=c(inf,rev(sup)),col=\"grey\",border=NA)\n",
    "lines(seuil,moyen,lwd=2,col=\"blue\")\n",
    "abline(0.8, 0, col='red')\n",
    "lines(seuil, erreur2, col='green')\n",
    "abline(DI_reel2, 0, col='black')\n",
    "legend(0.1,1.6,legend=c(\"DI\", \"y = 0.8\", \"Error rate\",\"DI of test sample\"),\n",
    "       col=c(\"blue\", \"red\", \"green\",\"black\"), lty=1, cex=0.8)\n",
    "confMat1=table(pred.logTest1[testin]<0.7,daTestn$income)\n",
    "print((confMat1[1,1]+confMat1[2,2])/sum(confMat1))"
   ]
  },
  {
   "cell_type": "markdown",
   "metadata": {},
   "source": [
    "## Test de validation"
   ]
  },
  {
   "cell_type": "code",
   "execution_count": 51,
   "metadata": {},
   "outputs": [],
   "source": [
    "test.ratio=.2 # part de l'échantillon test\n",
    "valid.ratio=.2 # part de l'echantillon valid\n",
    "npop=nrow(datBas) # nombre de lignes dans les données\n",
    "nvar=ncol(datBas) # nombre de colonnes\n",
    "# taille de l'échantillon test\n",
    "ntest=ceiling(npop*test.ratio)\n",
    "# taille de l'echantillon valid\n",
    "nvalid=ceiling(npop*valid.ratio)\n",
    "# indices de l'échantillon test\n",
    "testi=sample(1:npop,ntest)\n",
    "rest=setdiff(1:npop,testi) \n",
    "# indices de l'echantillon valid\n",
    "validi = sample(rest,nvalid)\n",
    "# indices de l'échantillon d'apprentissage\n",
    "appri= setdiff(rest,validi)\n",
    "# construction de l'échantillon d'apprentissage\n",
    "datApp=datBas[appri,]\n",
    "# construction de l'échantillon test \n",
    "daTest=datBas[testi,]\n",
    "# construction de l'echantillon valid\n",
    "daValid=datBas[validi,]"
   ]
  },
  {
   "cell_type": "code",
   "execution_count": 52,
   "metadata": {},
   "outputs": [],
   "source": [
    "testih = which(daTest$sex==\"Male\")\n",
    "testif = which(daTest$sex==\"Female\")\n",
    "daTestf=daTest[testif,]\n",
    "daTesth=daTest[testih,]\n",
    "# Prévision\n",
    "pred.logTest1=predict(log.lm,newdata=daTest,type=\"response\")"
   ]
  },
  {
   "cell_type": "code",
   "execution_count": 55,
   "metadata": {},
   "outputs": [],
   "source": [
    "validih = which(daValid$sex==\"Male\")\n",
    "validif = which(daValid$sex==\"Female\")\n",
    "daValidf=daValid[validif,]\n",
    "daValidh=daValid[validih,]\n",
    "# Prévision\n",
    "pred.logValid=predict(log.lm,newdata=daValid,type=\"response\")"
   ]
  },
  {
   "cell_type": "code",
   "execution_count": 56,
   "metadata": {},
   "outputs": [
    {
     "data": {
      "image/png": "[encoded data removed]",
      "text/plain": [
       "Plot with title “Evolution of the DI and the error rate for variable sex \n",
       " as a function of the threshold for category Female with a threshold for category Male fixed at 0.5”"
      ]
     },
     "metadata": {},
     "output_type": "display_data"
    }
   ],
   "source": [
    "seuil = seq(0.05,0.9,by=10e-3)\n",
    "\n",
    "testseuil = function(seuil1, seuil2, daTest1, daTest2,testi1, testi2, indice, pred.log){\n",
    "\n",
    "      \n",
    "    Y1=as.numeric(pred.log[testi1]<seuil1)\n",
    "    Y2=as.numeric(pred.log[testi2]<seuil2)\n",
    "    Y1[Y1==2]=0\n",
    "    Y2[Y2==2]=0\n",
    "    \n",
    "   \n",
    "    s11 = as.integer(daTest1[,8])-1\n",
    "    s12 = as.integer(daTest1[,7])-1\n",
    "    s21 = as.integer(daTest2[,8])-1\n",
    "    s22 = as.integer(daTest2[,7])-1\n",
    "    \n",
    "    coded_data1=data.frame(\"s1\"=s11,\"s2\"=s12,\"Y\"=Y1)\n",
    "    coded_data2=data.frame(\"s1\"=s21,\"s2\"=s22,\"Y\"=Y2)\n",
    "    coded_data <- rbind(coded_data1, coded_data2)\n",
    "    \n",
    "    di = disparate(coded_data,indice)\n",
    "    \n",
    "    confMat1=table(pred.log[testi1]<seuil1,daTest1$income)\n",
    "    erreur1 = (confMat1[1,1]+confMat1[2,2])/sum(confMat1)\n",
    "    confMat2=table(pred.log[testi2]<seuil2,daTest2$income)\n",
    "    erreur2 = (confMat2[1,1]+confMat2[2,2])/sum(confMat2)\n",
    "    \n",
    "    return (c(di[1],di[2],di[3], erreur1, erreur2))\n",
    "}\n",
    "\n",
    "testDI = list()\n",
    "erreur = list()\n",
    "for (k in seuil){\n",
    "    ts = testseuil(k, 0.5, daValidf, daValidh,validif, validih, 1, pred.logValid)\n",
    "    testDI = rbind(testDI,ts[c(1,2,3)])\n",
    "    erreur = rbind(erreur, ts[4])\n",
    "}\n",
    "\n",
    "\n",
    "\n",
    "moyen = as.numeric(testDI[,2])\n",
    "sup = as.numeric(testDI[,3])\n",
    "inf = as.numeric(testDI[,1])\n",
    "plot(NULL,NULL,xlim=c(min(seuil),max(seuil)),ylim=c(min(inf),max(sup)),\n",
    "xlab=\"threshold for category Female\",ylab=\"Disparate impact\", main=\"Evolution of the DI and the error rate for variable sex \\n as a function of the threshold for category Female with a threshold for category Male fixed at 0.5\", cex.main=0.7)\n",
    "\n",
    "\n",
    "\n",
    "## Intervalle de confiance [0.025;0.975]\n",
    "polygon(x=c(seuil,rev(seuil)),y=c(inf,rev(sup)),col=\"grey\",border=NA)\n",
    "lines(seuil,moyen,lwd=2,col=\"blue\")\n",
    "abline(0.8, 0, col='red')\n",
    "lines(seuil, erreur, col='green')\n",
    "legend(0.1,1,legend=c(\"DI\", \"y = 0.8\", \"Error rate\"),\n",
    "       col=c(\"blue\", \"red\", \"green\"), lty=1, cex=0.8)"
   ]
  },
  {
   "cell_type": "code",
   "execution_count": 57,
   "metadata": {},
   "outputs": [
    {
     "data": {
      "image/png": "[encoded data removed]",
      "text/plain": [
       "Plot with title “Evolution of the DI and the error rate for variable origEthn \n",
       " as a function of the threshold for category CaucNo with a threshold for category CaucYes fixed at 0.5”"
      ]
     },
     "metadata": {},
     "output_type": "display_data"
    }
   ],
   "source": [
    "seuil = seq(0.05,0.9,by=10e-3)\n",
    "\n",
    "testin = which(daTest$origEthn==\"CaucNo\")\n",
    "testiy = which(daTest$origEthn==\"CaucYes\")\n",
    "daTestn=daTest[testin,]\n",
    "daTesty=daTest[testiy,]\n",
    "\n",
    "# Prévision\n",
    "#pred.logCau=predict(log.lm,newdata=daTest,type=\"response\")\n",
    "\n",
    "# Prévision\n",
    "#pred.logy=predict(log.lm,newdata=daTesty,type=\"response\")\n",
    "\n",
    "testDI2 = list()\n",
    "erreur2 = list()\n",
    "for (k in seuil){\n",
    "    ts = testseuil(k, 0.5, daTestn, daTesty, testin, testiy, 2,pred.logValid)\n",
    "    testDI2 = rbind(testDI2,ts[c(1,2,3)])\n",
    "    erreur2 = rbind(erreur2, ts[4])\n",
    "}\n",
    "\n",
    "\n",
    "moyen = as.numeric(testDI2[,2])\n",
    "sup = as.numeric(testDI2[,3])\n",
    "inf = as.numeric(testDI2[,1])\n",
    "plot(NULL,NULL,xlim=c(min(seuil),max(seuil)),ylim=c(min(inf),max(sup)),\n",
    "xlab=\"threshold for category CaucNo \",ylab=\"Disparate impact\", main=\"Evolution of the DI and the error rate for variable origEthn \\n as a function of the threshold for category CaucNo with a threshold for category CaucYes fixed at 0.5\",cex.main=0.7)\n",
    "\n",
    "## Intervalle de confiance [0.025;0.975]\n",
    "polygon(x=c(seuil,rev(seuil)),y=c(inf,rev(sup)),col=\"grey\",border=NA)\n",
    "lines(seuil,moyen,lwd=2,col=\"blue\")\n",
    "abline(0.8, 0, col='red')\n",
    "lines(seuil, erreur2, col='green')\n",
    "legend(0.1,1.6,legend=c(\"DI\", \"y = 0.8\", \"Error rate\"),\n",
    "       col=c(\"blue\", \"red\", \"green\"), lty=1, cex=0.8)"
   ]
  },
  {
   "cell_type": "code",
   "execution_count": 58,
   "metadata": {},
   "outputs": [
    {
     "data": {
      "text/html": [
       "<ol class=list-inline>\n",
       "\t<li>0.657006293811664</li>\n",
       "\t<li>0.71734459227869</li>\n",
       "\t<li>0.777682890745717</li>\n",
       "\t<li>0.119345859429367</li>\n",
       "\t<li>0.186686439281595</li>\n",
       "</ol>\n"
      ],
      "text/latex": [
       "\\begin{enumerate*}\n",
       "\\item 0.657006293811664\n",
       "\\item 0.71734459227869\n",
       "\\item 0.777682890745717\n",
       "\\item 0.119345859429367\n",
       "\\item 0.186686439281595\n",
       "\\end{enumerate*}\n"
      ],
      "text/markdown": [
       "1. 0.657006293811664\n",
       "2. 0.71734459227869\n",
       "3. 0.777682890745717\n",
       "4. 0.119345859429367\n",
       "5. 0.186686439281595\n",
       "\n",
       "\n"
      ],
      "text/plain": [
       "[1] 0.6570063 0.7173446 0.7776829 0.1193459 0.1866864"
      ]
     },
     "metadata": {},
     "output_type": "display_data"
    }
   ],
   "source": [
    "testseuil(0.85, 0.5, daTestf, daTesth,testif, testih, 1, pred.logTest1)"
   ]
  },
  {
   "cell_type": "code",
   "execution_count": 59,
   "metadata": {},
   "outputs": [
    {
     "data": {
      "text/html": [
       "<ol class=list-inline>\n",
       "\t<li>0.7335089939623</li>\n",
       "\t<li>0.798780582133769</li>\n",
       "\t<li>0.864052170305237</li>\n",
       "\t<li>0.134575569358178</li>\n",
       "\t<li>0.180479735318445</li>\n",
       "</ol>\n"
      ],
      "text/latex": [
       "\\begin{enumerate*}\n",
       "\\item 0.7335089939623\n",
       "\\item 0.798780582133769\n",
       "\\item 0.864052170305237\n",
       "\\item 0.134575569358178\n",
       "\\item 0.180479735318445\n",
       "\\end{enumerate*}\n"
      ],
      "text/markdown": [
       "1. 0.7335089939623\n",
       "2. 0.798780582133769\n",
       "3. 0.864052170305237\n",
       "4. 0.134575569358178\n",
       "5. 0.180479735318445\n",
       "\n",
       "\n"
      ],
      "text/plain": [
       "[1] 0.7335090 0.7987806 0.8640522 0.1345756 0.1804797"
      ]
     },
     "metadata": {},
     "output_type": "display_data"
    }
   ],
   "source": [
    "testseuil(0.85, 0.5, daValidf, daValidh,validif, validih, 1, pred.logValid)"
   ]
  }
 ],
 "metadata": {
  "kernelspec": {
   "display_name": "R",
   "language": "R",
   "name": "ir"
  },
  "language_info": {
   "codemirror_mode": "r",
   "file_extension": ".r",
   "mimetype": "text/x-r-source",
   "name": "R",
   "pygments_lexer": "r",
   "version": "3.4.4"
  }
 },
 "nbformat": 4,
 "nbformat_minor": 2
}
