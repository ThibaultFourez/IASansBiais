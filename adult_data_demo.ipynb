{
 "cells": [
  {
   "cell_type": "code",
   "execution_count": 147,
   "metadata": {},
   "outputs": [],
   "source": [
    "import os,sys\n",
    "import numpy as np\n",
    "from prepare_adult_data import *\n",
    "sys.path.insert(0, '../../fair_classification/') # the code for fair classification is in this directory\n",
    "import utils as ut\n",
    "import loss_funcs as lf # loss funcs that can be optimized subject to various constraints\n",
    "\n",
    "import matplotlib.pyplot as plt"
   ]
  },
  {
   "cell_type": "code",
   "execution_count": 47,
   "metadata": {},
   "outputs": [],
   "source": [
    "def load_adult_data(load_data_size=None): #Ne marche pas quand on l'importe alors qu'elle est identique...\n",
    "\n",
    "    \"\"\"\n",
    "        if load_data_size is set to None (or if no argument is provided), then we load and return the whole data\n",
    "        if it is a number, say 10000, then we will return randomly selected 10K examples\n",
    "    \"\"\"\n",
    "    attrs = ['age', 'workclass', 'fnlwgt', 'education', 'education_num', 'marital_status', 'occupation', 'relationship', 'race', 'sex', 'capital_gain', 'capital_loss', 'hours_per_week', 'native_country'] # all attributes\n",
    "    int_attrs = ['age', 'fnlwgt', 'education_num', 'capital_gain', 'capital_loss', 'hours_per_week'] # attributes with integer values -- the rest are categorical\n",
    "    sensitive_attrs = ['sex', 'race'] # the fairness constraints will be used for this feature\n",
    "    attrs_to_ignore = ['sex', 'race' ,'fnlwgt'] # sex and race are sensitive feature so we will not use them in classification, we will not consider fnlwght for classification since its computed externally and it highly predictive for the class (for details, see documentation of the adult data)\n",
    "    attrs_for_classification = set(attrs) - set(attrs_to_ignore)\n",
    "\n",
    "    # adult data comes in two different files, one for training and one for testing, however, we will combine data from both the files\n",
    "    data_files = [\"adult.data\", \"adult.test\"]\n",
    "\n",
    "\n",
    "\n",
    "    X = []\n",
    "    y = []\n",
    "    x_control = {}\n",
    "\n",
    "    attrs_to_vals = {} # will store the values for each attribute for all users\n",
    "    for k in attrs:\n",
    "        if k in sensitive_attrs:\n",
    "            x_control[k] = []\n",
    "        elif k in attrs_to_ignore:\n",
    "            pass\n",
    "        else:\n",
    "            attrs_to_vals[k] = []\n",
    "\n",
    "    for f in data_files:\n",
    "        check_data_file(f)\n",
    "\n",
    "        for line in open(f):\n",
    "            line = line.strip()\n",
    "            if line == \"\": continue # skip empty lines\n",
    "            line = line.split(\", \")\n",
    "            if len(line) != 15 or \"?\" in line: # if a line has missing attributes, ignore it\n",
    "                continue\n",
    "\n",
    "            class_label = line[-1]\n",
    "            if class_label in [\"<=50K.\", \"<=50K\"]:\n",
    "                class_label = -1\n",
    "            elif class_label in [\">50K.\", \">50K\"]:\n",
    "                class_label = +1\n",
    "            else:\n",
    "                raise Exception(\"Invalid class label value\")\n",
    "\n",
    "            y.append(class_label)\n",
    "\n",
    "\n",
    "            for i in range(0,len(line)-1):\n",
    "                attr_name = attrs[i]\n",
    "                attr_val = line[i]\n",
    "                # reducing dimensionality of some very sparse features\n",
    "                if attr_name == \"native_country\":\n",
    "                    if attr_val!=\"United-States\":\n",
    "                        attr_val = \"Non-United-Stated\"\n",
    "                elif attr_name == \"education\":\n",
    "                    if attr_val in [\"Preschool\", \"1st-4th\", \"5th-6th\", \"7th-8th\"]:\n",
    "                        attr_val = \"prim-middle-school\"\n",
    "                    elif attr_val in [\"9th\", \"10th\", \"11th\", \"12th\"]:\n",
    "                        attr_val = \"high-school\"\n",
    "\n",
    "                if attr_name in sensitive_attrs:\n",
    "                    x_control[attr_name].append(attr_val)\n",
    "                elif attr_name in attrs_to_ignore:\n",
    "                    pass\n",
    "                else:\n",
    "                    attrs_to_vals[attr_name].append(attr_val)\n",
    "\n",
    "    def convert_attrs_to_ints(d): # discretize the string attributes\n",
    "        for attr_name, attr_vals in d.items():\n",
    "            if attr_name in int_attrs: continue\n",
    "            uniq_vals = sorted(list(set(attr_vals))) # get unique values\n",
    "\n",
    "            # compute integer codes for the unique values\n",
    "            val_dict = {}\n",
    "            for i in range(0,len(uniq_vals)):\n",
    "                val_dict[uniq_vals[i]] = i\n",
    "\n",
    "            # replace the values with their integer encoding\n",
    "            for i in range(0,len(attr_vals)):\n",
    "                attr_vals[i] = val_dict[attr_vals[i]]\n",
    "            d[attr_name] = attr_vals\n",
    "\n",
    "    \n",
    "    # convert the discrete values to their integer representations\n",
    "    convert_attrs_to_ints(x_control)\n",
    "    convert_attrs_to_ints(attrs_to_vals)\n",
    "\n",
    "\n",
    "    # if the integer vals are not binary, we need to get one-hot encoding for them\n",
    "    for attr_name in attrs_for_classification:\n",
    "        attr_vals = attrs_to_vals[attr_name]\n",
    "        if attr_name in int_attrs or attr_name == \"native_country\": # the way we encoded native country, its binary now so no need to apply one hot encoding on it\n",
    "            X.append(attr_vals)\n",
    "\n",
    "        else:            \n",
    "            attr_vals, index_dict = ut.get_one_hot_encoding(attr_vals)\n",
    "            for inner_col in attr_vals.T:                \n",
    "                X.append(inner_col) \n",
    "\n",
    "\n",
    "    # convert to numpy arrays for easy handline\n",
    "    X = np.array(X, dtype=float).T\n",
    "    y = np.array(y, dtype = float)\n",
    "    for k, v in x_control.items(): x_control[k] = np.array(v, dtype=float)\n",
    "        \n",
    "    # shuffle the data\n",
    "    perm = list(range(0,len(y))) # shuffle the data before creating each fold\n",
    "    shuffle(perm)\n",
    "    X = X[perm]\n",
    "    y = y[perm]\n",
    "    for k in x_control.keys():\n",
    "        x_control[k] = x_control[k][perm]\n",
    "\n",
    "    # see if we need to subsample the data\n",
    "    if load_data_size is not None:\n",
    "        print(\"Loading only %d examples from the data\" % load_data_size)\n",
    "        X = X[:load_data_size]\n",
    "        y = y[:load_data_size]\n",
    "        for k in x_control.keys():\n",
    "            x_control[k] = x_control[k][:load_data_size]\n",
    "\n",
    "    return X, y, x_control"
   ]
  },
  {
   "cell_type": "code",
   "execution_count": 53,
   "metadata": {},
   "outputs": [],
   "source": [
    "def compute_p_rule(x_control, class_labels, sensitive_attr):\n",
    "\n",
    "    \"\"\" Compute the p-rule based on Doctrine of disparate impact \"\"\"\n",
    "\n",
    "    if sensitive_attr==\"sex\":\n",
    "        non_prot_all = sum(x_control == 1.0) # non-protected group\n",
    "        prot_all = sum(x_control == 0.0) # protected group\n",
    "        non_prot_pos = sum(class_labels[x_control == 1.0] == 1.0) # non_protected in positive class\n",
    "        prot_pos = sum(class_labels[x_control == 0.0] == 1.0) # protected in positive class\n",
    "    elif sensitive_attr==\"race\":\n",
    "        non_prot_all = sum(x_control == 4.0) # non-protected group\n",
    "        prot_all = sum(x_control != 4.0) # protected group\n",
    "        non_prot_pos = sum(class_labels[x_control == 4.0] == 1.0) # non_protected in positive class\n",
    "        prot_pos = sum(class_labels[x_control != 4.0] == 1.0) # protected in positive class\n",
    "    frac_non_prot_pos = float(non_prot_pos) / float(non_prot_all)\n",
    "    frac_prot_pos = float(prot_pos) / float(prot_all)\n",
    "    p_rule = (frac_prot_pos / frac_non_prot_pos) * 100.0\n",
    "    print\n",
    "    print(\"Total data points: %d\" % (len(x_control)))\n",
    "    print(\"# non-protected examples: %d\" % (non_prot_all))\n",
    "    print(\"# protected examples: %d\" % (prot_all))\n",
    "    print(\"Non-protected in positive class: %d (%0.0f%%)\" % (non_prot_pos, non_prot_pos * 100.0 / non_prot_all))\n",
    "    print(\"Protected in positive class: %d (%0.0f%%)\" % (prot_pos, prot_pos * 100.0 / prot_all))\n",
    "    print(\"P-rule is: %0.0f%%\" % ( p_rule ))\n",
    "    return p_rule"
   ]
  },
  {
   "cell_type": "code",
   "execution_count": 59,
   "metadata": {},
   "outputs": [
    {
     "name": "stdout",
     "output_type": "stream",
     "text": [
      "Looking for file 'adult.data' in the current directory...\n",
      "File found in current directory..\n",
      "Looking for file 'adult.test' in the current directory...\n",
      "File found in current directory..\n",
      "Loading only 10000 examples from the data\n",
      "\n",
      "\"sex\" sentitive attribute :\n",
      "\n",
      "Total data points: 10000\n",
      "# non-protected examples: 6743\n",
      "# protected examples: 3257\n",
      "Non-protected in positive class: 2077 (31%)\n",
      "Protected in positive class: 353 (11%)\n",
      "P-rule is: 35%\n",
      "\n",
      "\"race\" sentitive attribute :\n",
      "\n",
      "Total data points: 10000\n",
      "# non-protected examples: 8611\n",
      "# protected examples: 1389\n",
      "Non-protected in positive class: 2204 (26%)\n",
      "Protected in positive class: 226 (16%)\n",
      "P-rule is: 64%\n"
     ]
    },
    {
     "data": {
      "text/plain": [
       "63.56941172473897"
      ]
     },
     "execution_count": 59,
     "metadata": {},
     "output_type": "execute_result"
    }
   ],
   "source": [
    "\"\"\" Load the adult data \"\"\"\n",
    "X, y, x_control = load_adult_data(load_data_size=10000) # set the argument to none, or no arguments if you want to test with the whole data -- we are subsampling for performance speedup\n",
    "print(\"\\n\\\"sex\\\" sentitive attribute :\\n\")\n",
    "compute_p_rule(x_control[\"sex\"], y, \"sex\") # compute the p-rule in the original data for the sensitive attribute sex\n",
    "print(\"\\n\\\"race\\\" sentitive attribute :\\n\")\n",
    "compute_p_rule(x_control[\"race\"], y, \"race\") # compute the p-rule in the original data for the sensitive attribute race"
   ]
  },
  {
   "cell_type": "code",
   "execution_count": 60,
   "metadata": {},
   "outputs": [],
   "source": [
    "\"\"\" Split the data into train and test \"\"\"\n",
    "X = ut.add_intercept(X) # add intercept to X before applying the linear classifier (so that the boundary hyperplan in defined as theta^T*X=0)\n",
    "train_fold_size = 0.7\n",
    "x_train, y_train, x_control_train, x_test, y_test, x_control_test = ut.split_into_train_test(X, y, x_control, train_fold_size)"
   ]
  },
  {
   "cell_type": "code",
   "execution_count": 105,
   "metadata": {},
   "outputs": [],
   "source": [
    "apply_fairness_constraints = None\n",
    "apply_accuracy_constraint = None\n",
    "sep_constraint = None\n",
    "\n",
    "loss_function = lf._logistic_loss\n",
    "sensitive_attrs = ['sex', 'race']\n",
    "sensitive_attrs_to_cov_thresh = {}\n",
    "gamma = None"
   ]
  },
  {
   "cell_type": "code",
   "execution_count": 79,
   "metadata": {},
   "outputs": [],
   "source": [
    "def train_test_classifier():\n",
    "    w = ut.train_model(x_train, y_train, x_control_train, loss_function, apply_fairness_constraints, apply_accuracy_constraint, sep_constraint, sensitive_attrs, sensitive_attrs_to_cov_thresh, gamma)\n",
    "    train_score, test_score, correct_answers_train, correct_answers_test = ut.check_accuracy(w, x_train, y_train, x_test, y_test, None, None)\n",
    "    distances_boundary_test = (np.dot(x_test, w)).tolist()\n",
    "    all_class_labels_assigned_test = np.sign(distances_boundary_test)\n",
    "    correlation_dict_test = ut.get_correlations(None, None, all_class_labels_assigned_test, x_control_test, sensitive_attrs)\n",
    "    cov_dict_test = ut.print_covariance_sensitive_attrs(None, x_test, distances_boundary_test, x_control_test, sensitive_attrs)\n",
    "    p_rule = print_classifier_fairness_stats([test_score], [correlation_dict_test], [cov_dict_test], sensitive_attrs)\n",
    "    return w, p_rule, test_score"
   ]
  },
  {
   "cell_type": "markdown",
   "metadata": {},
   "source": [
    "## I - Classify the data while optimizing for accuracy"
   ]
  },
  {
   "cell_type": "code",
   "execution_count": 106,
   "metadata": {},
   "outputs": [],
   "source": [
    "def print_classifier_fairness_stats(acc_arr, correlation_dict_arr, cov_dict_arr, s_attr_name):\n",
    "    \n",
    "    correlation_dict = ut.get_avg_correlation_dict(correlation_dict_arr)\n",
    "    p_rule = []\n",
    "    non_prot_pos = []\n",
    "    prot_pos = []\n",
    "    for k in s_attr_name:\n",
    "        non_prot_pos.append(correlation_dict[k][1][1])\n",
    "        prot_pos.append(correlation_dict[k][0][1])\n",
    "        p_rule.append((prot_pos[-1] / non_prot_pos[-1]) * 100.0)\n",
    "    \n",
    "    print(\"Accuracy: %0.2f\" % (np.mean(acc_arr)))\n",
    "    for i in range(len(s_attr_name)):\n",
    "        print(\"\\n\", s_attr_name[i], \" :\\n\")\n",
    "        print(\"Protected/non-protected in +ve class: %0.0f%% / %0.0f%%\" % (prot_pos[i], non_prot_pos[i]))\n",
    "        print(\"P-rule achieved: %0.0f%%\" % (p_rule[i]))\n",
    "        print(\"Covariance between sensitive feature and decision from distance boundary : %0.3f\" % (np.mean([v[s_attr_name[i]] for v in cov_dict_arr])))\n",
    "    return p_rule"
   ]
  },
  {
   "cell_type": "markdown",
   "metadata": {},
   "source": [
    "### I.1 - Unconstrained (original) classifier"
   ]
  },
  {
   "cell_type": "code",
   "execution_count": 107,
   "metadata": {},
   "outputs": [
    {
     "name": "stdout",
     "output_type": "stream",
     "text": [
      "Accuracy: 0.85\n",
      "\n",
      " sex  :\n",
      "\n",
      "Protected/non-protected in +ve class: 8% / 26%\n",
      "P-rule achieved: 30%\n",
      "Covariance between sensitive feature and decision from distance boundary : 0.422\n",
      "\n",
      " race  :\n",
      "\n",
      "Protected/non-protected in +ve class: 10% / 25%\n",
      "P-rule achieved: 40%\n",
      "Covariance between sensitive feature and decision from distance boundary : 0.159\n"
     ]
    }
   ],
   "source": [
    "# all constraint flags are set to 0 since we want to train an unconstrained (original) classifier\n",
    "apply_fairness_constraints = 0\n",
    "apply_accuracy_constraint = 0\n",
    "sep_constraint = 0\n",
    "w_uncons, p_uncons, acc_uncons = train_test_classifier()"
   ]
  },
  {
   "cell_type": "markdown",
   "metadata": {},
   "source": [
    "### I.2 - Classifier with fairness constraint"
   ]
  },
  {
   "cell_type": "code",
   "execution_count": 97,
   "metadata": {},
   "outputs": [
    {
     "name": "stdout",
     "output_type": "stream",
     "text": [
      "table :  sex   [1. 0. 1. ... 1. 0. 1.]\n",
      "table :  race   [4. 2. 4. ... 4. 4. 4.]\n",
      "Accuracy: 0.83\n",
      "\n",
      " sex  :\n",
      "\n",
      "Protected/non-protected in +ve class: 14% / 14%\n",
      "P-rule achieved: 96%\n",
      "Covariance between sensitive feature and decision from distance boundary : 0.017\n",
      "\n",
      " race  :\n",
      "\n",
      "Protected/non-protected in +ve class: 10% / 15%\n",
      "P-rule achieved: 65%\n",
      "Covariance between sensitive feature and decision from distance boundary : 0.002\n"
     ]
    }
   ],
   "source": [
    "apply_fairness_constraints = 1 # set this flag to one since we want to optimize accuracy subject to fairness constraints\n",
    "apply_accuracy_constraint = 0\n",
    "sep_constraint = 0\n",
    "sensitive_attrs_to_cov_thresh = {\"sex\":0, \"race\":{0: 0, 1: 0, 2: 0, 3: 0, 4: 0}}\n",
    "w_f_cons, p_f_cons, acc_f_cons  = train_test_classifier()"
   ]
  },
  {
   "cell_type": "markdown",
   "metadata": {},
   "source": [
    "## II - Classify such that we optimize for fairness subject to a certain loss in accuracy"
   ]
  },
  {
   "cell_type": "markdown",
   "metadata": {},
   "source": [
    "### II.1 - Classifier with accuracy constraint"
   ]
  },
  {
   "cell_type": "code",
   "execution_count": 99,
   "metadata": {},
   "outputs": [
    {
     "name": "stdout",
     "output_type": "stream",
     "text": [
      "Accuracy: 0.79\n",
      "\n",
      " sex  :\n",
      "\n",
      "Protected/non-protected in +ve class: 21% / 24%\n",
      "P-rule achieved: 88%\n",
      "Covariance between sensitive feature and decision from distance boundary : 0.039\n"
     ]
    }
   ],
   "source": [
    "sensitive_attrs = ['sex']\n",
    "\n",
    "apply_fairness_constraints = 0 # flag for fairness constraint is set back to0 since we want to apply the accuracy constraint now\n",
    "apply_accuracy_constraint = 1 # now, we want to optimize fairness subject to accuracy constraints\n",
    "sep_constraint = 0\n",
    "gamma = 0.5 # gamma controls how much loss in accuracy we are willing to incur to achieve fairness -- increase gamme to allow more loss in accuracy\n",
    "w_a_cons, p_a_cons, acc_a_cons = train_test_classifier()"
   ]
  },
  {
   "cell_type": "markdown",
   "metadata": {},
   "source": [
    "### II.2 - Classifier with \"fine-grained\" accuracy constraint (no +ve misclassification)"
   ]
  },
  {
   "cell_type": "code",
   "execution_count": 100,
   "metadata": {},
   "outputs": [
    {
     "name": "stdout",
     "output_type": "stream",
     "text": [
      "Accuracy: 0.37\n",
      "\n",
      " sex  :\n",
      "\n",
      "Protected/non-protected in +ve class: 86% / 85%\n",
      "P-rule achieved: 100%\n",
      "Covariance between sensitive feature and decision from distance boundary : 0.062\n"
     ]
    }
   ],
   "source": [
    "\"\"\" \n",
    "Classify such that we optimize for fairness subject to a certain loss in accuracy \n",
    "In addition, make sure that no points classified as positive by the unconstrained (original) classifier are misclassified.\n",
    "\"\"\"\n",
    "apply_fairness_constraints = 0 # flag for fairness constraint is set back to0 since we want to apply the accuracy constraint now\n",
    "apply_accuracy_constraint = 1 # now, we want to optimize accuracy subject to fairness constraints\n",
    "sep_constraint = 1 # set the separate constraint flag to one, since in addition to accuracy constrains, we also want no misclassifications for certain points (details in demo README.md)\n",
    "gamma = 1000.0\n",
    "w_a_cons_fine, p_a_cons_fine, acc_a_cons_fine  = train_test_classifier()"
   ]
  },
  {
   "cell_type": "code",
   "execution_count": 93,
   "metadata": {},
   "outputs": [],
   "source": [
    "### Problème dans la partie \"Classifier with accuracy constraint\" sur la P-rule de l'attribut race -> on a enlevé race, explioquer pourquoi (le code n'est pas conçu pour plusieurs sensitive attributes)\n",
    "### Vérifier qu'il ne faut pas inverser l'ordre de sex et race à chaque fois (car race vient avant sex dans la liste des attributs)"
   ]
  },
  {
   "cell_type": "markdown",
   "metadata": {},
   "source": [
    "## III - Comparison of the two approaches"
   ]
  },
  {
   "cell_type": "code",
   "execution_count": 120,
   "metadata": {},
   "outputs": [],
   "source": [
    "def compute_classifier_fairness_stats(acc_arr, correlation_dict_arr, cov_dict_arr, s_attr_name):\n",
    "    \n",
    "    correlation_dict = ut.get_avg_correlation_dict(correlation_dict_arr)\n",
    "    p_rule = []\n",
    "    non_prot_pos = []\n",
    "    prot_pos = []\n",
    "    covariance = []\n",
    "    for k in s_attr_name:\n",
    "        non_prot_pos.append(correlation_dict[k][1][1])\n",
    "        prot_pos.append(correlation_dict[k][0][1])\n",
    "        p_rule.append((prot_pos[-1] / non_prot_pos[-1]) * 100.0)\n",
    "    \n",
    "    accuracy = np.mean(acc_arr)\n",
    "    \n",
    "    for i in range(len(s_attr_name)):\n",
    "        covariance.append(np.mean([v[s_attr_name[i]] for v in cov_dict_arr]))\n",
    "        \n",
    "    return p_rule, non_prot_pos, prot_pos, accuracy, covariance"
   ]
  },
  {
   "cell_type": "code",
   "execution_count": 121,
   "metadata": {},
   "outputs": [],
   "source": [
    "def train_test_classifier_comp(loss_function, apply_fairness_constraints=0, apply_accuracy_constraint=0, sep_constraint=0, sensitive_attrs=['sex', 'race'], cov_thresh=0, gamma=0):\n",
    "    \n",
    "    if 'race' in sensitive_attrs:\n",
    "        if 'sex' in sensitive_attrs:\n",
    "            sensitive_attrs_to_cov_thresh = {\"sex\":cov_thresh, \"race\":{0: cov_thresh, 1: cov_thresh, 2: cov_thresh, 3: cov_thresh, 4: cov_thresh}}\n",
    "        else:\n",
    "            sensitive_attrs_to_cov_thresh = {\"race\":{0: cov_thresh, 1: cov_thresh, 2: cov_thresh, 3: cov_thresh, 4: cov_thresh}}\n",
    "    elif 'sex' in sensitive_attrs:\n",
    "        sensitive_attrs_to_cov_thresh = {\"sex\":cov_thresh}\n",
    "    else:\n",
    "        sensitive_attrs_to_cov_thresh = {}\n",
    "    \n",
    "    w = ut.train_model(x_train, y_train, x_control_train, loss_function, apply_fairness_constraints, apply_accuracy_constraint, sep_constraint, sensitive_attrs, sensitive_attrs_to_cov_thresh, gamma)\n",
    "    train_score, test_score, correct_answers_train, correct_answers_test = ut.check_accuracy(w, x_train, y_train, x_test, y_test, None, None)\n",
    "    distances_boundary_test = (np.dot(x_test, w)).tolist()\n",
    "    all_class_labels_assigned_test = np.sign(distances_boundary_test)\n",
    "    correlation_dict_test = ut.get_correlations(None, None, all_class_labels_assigned_test, x_control_test, sensitive_attrs)\n",
    "    cov_dict_test = ut.print_covariance_sensitive_attrs(None, x_test, distances_boundary_test, x_control_test, sensitive_attrs)\n",
    "    \n",
    "    p_rule, non_prot_pos, prot_pos, accuracy, covariance = compute_classifier_fairness_stats([test_score], [correlation_dict_test], [cov_dict_test], sensitive_attrs)\n",
    "    \n",
    "    return w, p_rule, test_score, accuracy, covariance"
   ]
  },
  {
   "cell_type": "markdown",
   "metadata": {},
   "source": [
    "### III.1 - Computation with fairness constraint"
   ]
  },
  {
   "cell_type": "code",
   "execution_count": 162,
   "metadata": {},
   "outputs": [],
   "source": [
    "LR_FAIR_sex = []\n",
    "LR_FAIR_race = []\n",
    "LR_FAIR_both = [] # both sex and race as sensitive attributes\n",
    "thresh = np.linspace(2,0,20) # covariance threshold (c)"
   ]
  },
  {
   "cell_type": "code",
   "execution_count": 163,
   "metadata": {
    "scrolled": true
   },
   "outputs": [
    {
     "name": "stdout",
     "output_type": "stream",
     "text": [
      "table :  sex   [1. 0. 1. ... 1. 0. 1.]\n",
      "table :  sex   [1. 0. 1. ... 1. 0. 1.]\n",
      "table :  sex   [1. 0. 1. ... 1. 0. 1.]\n",
      "table :  sex   [1. 0. 1. ... 1. 0. 1.]\n",
      "table :  sex   [1. 0. 1. ... 1. 0. 1.]\n",
      "table :  sex   [1. 0. 1. ... 1. 0. 1.]\n",
      "table :  sex   [1. 0. 1. ... 1. 0. 1.]\n",
      "table :  sex   [1. 0. 1. ... 1. 0. 1.]\n",
      "table :  sex   [1. 0. 1. ... 1. 0. 1.]\n",
      "table :  sex   [1. 0. 1. ... 1. 0. 1.]\n",
      "table :  sex   [1. 0. 1. ... 1. 0. 1.]\n",
      "table :  sex   [1. 0. 1. ... 1. 0. 1.]\n",
      "table :  sex   [1. 0. 1. ... 1. 0. 1.]\n",
      "table :  sex   [1. 0. 1. ... 1. 0. 1.]\n",
      "table :  sex   [1. 0. 1. ... 1. 0. 1.]\n",
      "table :  sex   [1. 0. 1. ... 1. 0. 1.]\n",
      "table :  sex   [1. 0. 1. ... 1. 0. 1.]\n",
      "table :  sex   [1. 0. 1. ... 1. 0. 1.]\n",
      "table :  sex   [1. 0. 1. ... 1. 0. 1.]\n",
      "table :  sex   [1. 0. 1. ... 1. 0. 1.]\n",
      "Optimization problem did not converge.. Check the solution returned by the optimizer.\n",
      "Returned solution is:\n",
      "     fun: 2698.423329273193\n",
      "     jac: array([-3.96728516e-04,  1.52984619e-01,  1.65249939e+01,  2.45855408e+01,\n",
      "       -1.64018555e+01, -2.88458862e+01,  3.53787231e+00,  4.45983887e-01,\n",
      "        6.84268188e+00,  3.18704224e+00, -1.59811401e+00,  6.46667480e-01,\n",
      "       -3.50668335e+00, -4.14813232e+00,  6.93206787e-01, -6.14187622e+00,\n",
      "        1.76618347e+01,  1.84396362e+00, -8.63836670e+00, -3.02889352e+03,\n",
      "       -9.42270447e+02,  9.73238831e+01, -3.19793701e-01, -8.56321106e+01,\n",
      "       -1.20365295e+01, -1.79833679e+01, -2.00452271e+01, -9.23080444e+00,\n",
      "        5.53203430e+01,  7.93069458e+00,  1.16631165e+01, -1.05902405e+01,\n",
      "        7.26968384e+00,  7.93728638e+00, -3.16073303e+01, -2.02622814e+04,\n",
      "       -3.10170563e+02,  8.71367188e+01,  9.45867920e+00,  3.82428589e+01,\n",
      "        1.06078522e+02,  6.92533569e+01,  8.62668457e+01,  2.32696533e-01,\n",
      "       -2.38636810e+02,  4.57839966e+00,  9.17846985e+01,  1.82524414e+01,\n",
      "        3.75213318e+01, -3.00719864e+05,  7.76129150e+00])\n",
      " message: 'Positive directional derivative for linesearch'\n",
      "    nfev: 6219\n",
      "     nit: 117\n",
      "    njev: 113\n",
      "  status: 8\n",
      " success: False\n",
      "       x: array([-2.63099711e+00, -6.24518826e-01, -7.67179963e-01, -7.47877029e-01,\n",
      "       -6.93104718e-01, -1.47127872e+00, -1.00993789e+00,  5.44288766e+00,\n",
      "        2.05235457e-01,  3.98234347e-01,  1.72716629e-01,  8.04088752e-01,\n",
      "        1.67645220e+00, -7.42133804e-02,  1.14811311e+00,  1.37491359e+00,\n",
      "        2.97274804e-01, -1.26280512e+00, -2.07236607e+00,  1.52248963e-02,\n",
      "        1.92374618e-02,  9.67258226e-01,  7.51679051e-01,  4.43368212e-02,\n",
      "        1.24649824e+00, -2.67437253e+00, -2.40148462e+00, -6.13253566e-02,\n",
      "        5.94579293e-01,  1.41143056e+00,  1.16232901e+00,  1.33587281e-01,\n",
      "        9.54492818e-01,  9.41625832e-01,  2.29775527e-01,  5.27619042e-04,\n",
      "       -5.66011382e-01, -5.56584617e-01, -8.05002190e-01, -5.96971186e-01,\n",
      "        3.02946895e-02,  1.11828287e+00, -5.31732512e-01,  5.83707980e-01,\n",
      "        6.74561260e-01, -2.66177418e-01, -8.69726498e-01, -6.00335686e-01,\n",
      "       -8.15332000e-02,  2.21017476e-04, -1.43187587e-02])\n"
     ]
    }
   ],
   "source": [
    "for c in thresh:\n",
    "    LR_FAIR_sex.append(train_test_classifier_comp(lf._logistic_loss, apply_fairness_constraints=1, sensitive_attrs=['sex'], cov_thresh=c))"
   ]
  },
  {
   "cell_type": "code",
   "execution_count": 167,
   "metadata": {},
   "outputs": [
    {
     "name": "stdout",
     "output_type": "stream",
     "text": [
      "table :  race   [4. 2. 4. ... 4. 4. 4.]\n",
      "table :  race   [4. 2. 4. ... 4. 4. 4.]\n",
      "table :  race   [4. 2. 4. ... 4. 4. 4.]\n",
      "table :  race   [4. 2. 4. ... 4. 4. 4.]\n",
      "table :  race   [4. 2. 4. ... 4. 4. 4.]\n",
      "table :  race   [4. 2. 4. ... 4. 4. 4.]\n",
      "table :  race   [4. 2. 4. ... 4. 4. 4.]\n",
      "table :  race   [4. 2. 4. ... 4. 4. 4.]\n",
      "table :  race   [4. 2. 4. ... 4. 4. 4.]\n",
      "table :  race   [4. 2. 4. ... 4. 4. 4.]\n",
      "table :  race   [4. 2. 4. ... 4. 4. 4.]\n",
      "table :  race   [4. 2. 4. ... 4. 4. 4.]\n",
      "table :  race   [4. 2. 4. ... 4. 4. 4.]\n",
      "table :  race   [4. 2. 4. ... 4. 4. 4.]\n",
      "Optimization problem did not converge.. Check the solution returned by the optimizer.\n",
      "Returned solution is:\n",
      "     fun: 308434.6102869014\n",
      "     jac: array([5.28299609e+03, 1.38000000e+02, 3.44000000e+02, 4.02099609e+03,\n",
      "       1.15000000e+02, 4.60000000e+02, 2.04000000e+02, 1.00000000e+00,\n",
      "       4.80199609e+03, 1.73000000e+02, 2.46000000e+02, 7.03000000e+02,\n",
      "       1.60000000e+01, 1.94100000e+03, 1.88000000e+02, 2.70000000e+01,\n",
      "       1.15600000e+03, 6.01996094e+02, 2.30996094e+02, 2.08574980e+05,\n",
      "       1.97611988e+05, 7.24996094e+02, 2.00000000e+00, 7.40000000e+02,\n",
      "       4.98000000e+02, 1.90000000e+02, 2.98000000e+02, 4.46000000e+02,\n",
      "       6.99996094e+02, 3.80000000e+01, 4.79000000e+02, 1.19000000e+02,\n",
      "       6.00996094e+02, 1.84000000e+02, 2.63000000e+02, 3.33374000e+05,\n",
      "       1.60600000e+03, 1.68899609e+03, 1.98000000e+02, 9.27996094e+02,\n",
      "       6.96996094e+02, 1.65000000e+02, 8.68000000e+02, 3.00000000e+00,\n",
      "       1.81200000e+03, 7.90000000e+01, 2.09499609e+03, 2.23000000e+02,\n",
      "       2.03000000e+02, 8.09252000e+05, 5.09419961e+04])\n",
      " message: 'Inequality constraints incompatible'\n",
      "    nfev: 298\n",
      "     nit: 5\n",
      "    njev: 5\n",
      "  status: 4\n",
      " success: False\n",
      "       x: array([3.48153998e-02, 2.49927483e-01, 5.36979339e-01, 7.05456350e-03,\n",
      "       9.51635317e-01, 8.33970382e-01, 9.90219783e-01, 3.73327450e-01,\n",
      "       2.08780020e-01, 1.66078678e-01, 2.82484653e-01, 1.24365810e-01,\n",
      "       8.87436315e-01, 4.49167696e-01, 1.08474020e-01, 9.50585027e-01,\n",
      "       6.11698079e-01, 1.69455432e-01, 5.85613790e-01, 5.31791102e-02,\n",
      "       2.41560814e-01, 5.28851904e-01, 1.94178109e-01, 9.81509915e-01,\n",
      "       5.78974299e-01, 7.98180934e-01, 8.99273238e-01, 2.18842750e-01,\n",
      "       6.89533513e-01, 3.89298837e-01, 4.62832887e-01, 4.63618483e-01,\n",
      "       9.26757192e-01, 6.56138573e-01, 2.80393520e-01, 5.54473272e-01,\n",
      "       1.03981963e-01, 6.76250589e-01, 9.12496146e-01, 8.02986946e-01,\n",
      "       3.60537574e-01, 4.13995861e-01, 9.98371408e-01, 3.90366859e-01,\n",
      "       7.18211900e-01, 7.15833286e-02, 1.94193645e-01, 3.68330244e-04,\n",
      "       9.66557498e-01, 1.49306522e-02, 7.79555261e-01])\n",
      "table :  race   [4. 2. 4. ... 4. 4. 4.]\n",
      "table :  race   [4. 2. 4. ... 4. 4. 4.]\n",
      "table :  race   [4. 2. 4. ... 4. 4. 4.]\n",
      "table :  race   [4. 2. 4. ... 4. 4. 4.]\n",
      "table :  race   [4. 2. 4. ... 4. 4. 4.]\n",
      "table :  race   [4. 2. 4. ... 4. 4. 4.]\n"
     ]
    }
   ],
   "source": [
    "for c in thresh:\n",
    "    LR_FAIR_race.append(train_test_classifier_comp(lf._logistic_loss, apply_fairness_constraints=1, sensitive_attrs=['race'], cov_thresh=c))"
   ]
  },
  {
   "cell_type": "code",
   "execution_count": 168,
   "metadata": {},
   "outputs": [
    {
     "name": "stdout",
     "output_type": "stream",
     "text": [
      "table :  sex   [1. 0. 1. ... 1. 0. 1.]\n",
      "table :  race   [4. 2. 4. ... 4. 4. 4.]\n",
      "table :  sex   [1. 0. 1. ... 1. 0. 1.]\n",
      "table :  race   [4. 2. 4. ... 4. 4. 4.]\n",
      "table :  sex   [1. 0. 1. ... 1. 0. 1.]\n",
      "table :  race   [4. 2. 4. ... 4. 4. 4.]\n",
      "table :  sex   [1. 0. 1. ... 1. 0. 1.]\n",
      "table :  race   [4. 2. 4. ... 4. 4. 4.]\n",
      "table :  sex   [1. 0. 1. ... 1. 0. 1.]\n",
      "table :  race   [4. 2. 4. ... 4. 4. 4.]\n",
      "table :  sex   [1. 0. 1. ... 1. 0. 1.]\n",
      "table :  race   [4. 2. 4. ... 4. 4. 4.]\n",
      "table :  sex   [1. 0. 1. ... 1. 0. 1.]\n",
      "table :  race   [4. 2. 4. ... 4. 4. 4.]\n",
      "table :  sex   [1. 0. 1. ... 1. 0. 1.]\n",
      "table :  race   [4. 2. 4. ... 4. 4. 4.]\n",
      "Optimization problem did not converge.. Check the solution returned by the optimizer.\n",
      "Returned solution is:\n",
      "     fun: 157059.4410807196\n",
      "     jac: array([ 4.92997461e+03,  1.27000000e+02,  3.15998047e+02,  3.78097852e+03,\n",
      "        8.40000000e+01,  4.26998047e+02,  1.95000000e+02,  0.00000000e+00,\n",
      "        4.47797656e+03,  1.61000000e+02,  2.34000000e+02,  6.18000000e+02,\n",
      "        9.00000000e+00,  1.84698633e+03,  1.51000000e+02,  1.40000000e+01,\n",
      "        1.08899414e+03,  5.82994141e+02,  2.24000000e+02,  1.92942557e+05,\n",
      "        1.83163486e+05,  6.92998047e+02,  2.00000000e+00,  7.07998047e+02,\n",
      "        4.36000000e+02,  1.83998047e+02,  2.88000000e+02,  4.19998047e+02,\n",
      "        6.73994141e+02,  3.70000000e+01,  4.12998047e+02,  1.07998047e+02,\n",
      "        5.49990234e+02,  1.72000000e+02,  2.44998047e+02, -3.33594000e+05,\n",
      "        1.42599805e+03,  1.59199023e+03,  1.89998047e+02,  9.01986328e+02,\n",
      "        6.73000000e+02,  1.47000000e+02,  8.22996094e+02,  2.00000000e+00,\n",
      "        1.60899805e+03,  7.60000000e+01,  2.01097852e+03,  2.16000000e+02,\n",
      "        1.93000000e+02,  8.09252000e+05,  4.70757734e+04])\n",
      " message: 'Inequality constraints incompatible'\n",
      "    nfev: 297\n",
      "     nit: 5\n",
      "    njev: 5\n",
      "  status: 4\n",
      " success: False\n",
      "       x: array([ 0.17993842,  0.00960346,  0.06019082,  0.66429622,  0.26669346,\n",
      "        0.08518779,  0.06592431,  0.25700046,  0.45396843,  0.2948873 ,\n",
      "        0.13756458,  0.61577053,  0.53921612,  0.04413908,  0.15441192,\n",
      "        0.21990178,  0.81231979,  0.18921466,  0.31930767, -0.11689512,\n",
      "        0.6257802 ,  0.74684033,  0.56795749,  0.70216063,  0.27885789,\n",
      "        0.60511808,  0.99533924,  0.65609188,  0.15561458,  0.21654089,\n",
      "        0.18815432,  0.79294894,  0.20902619,  0.78283563,  0.74158148,\n",
      "       -0.12688692,  0.66452695,  0.52194926,  0.44305852,  0.14708459,\n",
      "        0.69465466,  0.82137679,  0.11213648,  0.07030107,  0.6038754 ,\n",
      "        0.82498739,  0.35978427,  0.87755026,  0.16480966,  0.00895827,\n",
      "        0.02290368])\n",
      "table :  sex   [1. 0. 1. ... 1. 0. 1.]\n",
      "table :  race   [4. 2. 4. ... 4. 4. 4.]\n",
      "table :  sex   [1. 0. 1. ... 1. 0. 1.]\n",
      "table :  race   [4. 2. 4. ... 4. 4. 4.]\n",
      "table :  sex   [1. 0. 1. ... 1. 0. 1.]\n",
      "table :  race   [4. 2. 4. ... 4. 4. 4.]\n",
      "table :  sex   [1. 0. 1. ... 1. 0. 1.]\n",
      "table :  race   [4. 2. 4. ... 4. 4. 4.]\n",
      "table :  sex   [1. 0. 1. ... 1. 0. 1.]\n",
      "table :  race   [4. 2. 4. ... 4. 4. 4.]\n",
      "table :  sex   [1. 0. 1. ... 1. 0. 1.]\n",
      "table :  race   [4. 2. 4. ... 4. 4. 4.]\n",
      "table :  sex   [1. 0. 1. ... 1. 0. 1.]\n",
      "table :  race   [4. 2. 4. ... 4. 4. 4.]\n",
      "table :  sex   [1. 0. 1. ... 1. 0. 1.]\n",
      "table :  race   [4. 2. 4. ... 4. 4. 4.]\n",
      "table :  sex   [1. 0. 1. ... 1. 0. 1.]\n",
      "table :  race   [4. 2. 4. ... 4. 4. 4.]\n",
      "table :  sex   [1. 0. 1. ... 1. 0. 1.]\n",
      "table :  race   [4. 2. 4. ... 4. 4. 4.]\n",
      "table :  sex   [1. 0. 1. ... 1. 0. 1.]\n",
      "table :  race   [4. 2. 4. ... 4. 4. 4.]\n",
      "table :  sex   [1. 0. 1. ... 1. 0. 1.]\n",
      "table :  race   [4. 2. 4. ... 4. 4. 4.]\n"
     ]
    }
   ],
   "source": [
    "for c in thresh:\n",
    "    LR_FAIR_both.append(train_test_classifier_comp(lf._logistic_loss, apply_fairness_constraints=1, sensitive_attrs=['sex', 'race'], cov_thresh=c))"
   ]
  },
  {
   "cell_type": "code",
   "execution_count": 173,
   "metadata": {},
   "outputs": [],
   "source": [
    "LR_FAIR_sex_P = []\n",
    "LR_FAIR_sex_ACC = []\n",
    "LR_FAIR_sex_COV = []\n",
    "\n",
    "LR_FAIR_race_P = []\n",
    "LR_FAIR_race_ACC = []\n",
    "LR_FAIR_race_COV = []\n",
    "\n",
    "LR_FAIR_both_Psex = [] # p%-rule for the attribute sex, computed with a model trained giving both sensitive arguments\n",
    "LR_FAIR_both_Prace = [] # p%-rule for the attribute race, computed with a model trained giving both sensitive arguments\n",
    "LR_FAIR_both_ACC = []\n",
    "LR_FAIR_both_COVsex = [] # covariance measure for the attribute sex, computed with a model trained giving both sensitive arguments\n",
    "LR_FAIR_both_COVrace = [] # covariance measure for the attribute race, computed with a model trained giving both sensitive arguments\n",
    "\n",
    "for i in range(len(thresh)):\n",
    "    LR_FAIR_sex_P.append(*LR_FAIR_sex[i][1])\n",
    "    LR_FAIR_sex_ACC.append(LR_FAIR_sex[i][3])\n",
    "    LR_FAIR_sex_COV.append(*LR_FAIR_sex[i][4])\n",
    "    \n",
    "    LR_FAIR_race_P.append(*LR_FAIR_race[i][1])\n",
    "    LR_FAIR_race_ACC.append(LR_FAIR_race[i][3])\n",
    "    LR_FAIR_race_COV.append(*LR_FAIR_race[i][4])\n",
    "    \n",
    "    LR_FAIR_both_Psex.append(LR_FAIR_both[i][1][0])\n",
    "    LR_FAIR_both_Prace.append(LR_FAIR_both[i][1][1])\n",
    "    LR_FAIR_both_ACC.append(LR_FAIR_both[i][3])\n",
    "    LR_FAIR_both_COVsex.append(LR_FAIR_both[i][4][0])\n",
    "    LR_FAIR_both_COVrace.append(LR_FAIR_both[i][4][1])"
   ]
  },
  {
   "cell_type": "markdown",
   "metadata": {},
   "source": [
    "### III.2 - Computation with accuracy constraint"
   ]
  },
  {
   "cell_type": "code",
   "execution_count": 182,
   "metadata": {},
   "outputs": [],
   "source": [
    "LR_ACCURACY_sex = []\n",
    "LR_FGACCURACY_sex = []\n",
    "gamma = np.linspace(2,0,20) # maximal additional loss (gamma)"
   ]
  },
  {
   "cell_type": "code",
   "execution_count": 178,
   "metadata": {},
   "outputs": [],
   "source": [
    "for g in gamma:\n",
    "    LR_ACCURACY_sex.append(train_test_classifier_comp(lf._logistic_loss, apply_accuracy_constraint=1, sensitive_attrs=['sex'], gamma=g))"
   ]
  },
  {
   "cell_type": "code",
   "execution_count": 184,
   "metadata": {},
   "outputs": [
    {
     "name": "stdout",
     "output_type": "stream",
     "text": [
      "Optimization problem did not converge.. Check the solution returned by the optimizer.\n",
      "Returned solution is:\n",
      "     fun: 1459597.912562444\n",
      "     jac: array([ 0.00000000e+00,  0.00000000e+00,  0.00000000e+00,  0.00000000e+00,\n",
      "        0.00000000e+00,  0.00000000e+00,  0.00000000e+00,  0.00000000e+00,\n",
      "        0.00000000e+00,  0.00000000e+00,  0.00000000e+00,  0.00000000e+00,\n",
      "        0.00000000e+00,  0.00000000e+00,  0.00000000e+00,  0.00000000e+00,\n",
      "        0.00000000e+00,  0.00000000e+00,  0.00000000e+00,  1.03125000e+00,\n",
      "        7.34375000e-01,  0.00000000e+00,  0.00000000e+00,  0.00000000e+00,\n",
      "       -3.12500000e-02,  0.00000000e+00,  0.00000000e+00,  0.00000000e+00,\n",
      "        0.00000000e+00,  0.00000000e+00,  0.00000000e+00,  0.00000000e+00,\n",
      "        0.00000000e+00,  0.00000000e+00,  0.00000000e+00,  8.82812500e+00,\n",
      "        0.00000000e+00, -1.56250000e-02,  0.00000000e+00,  0.00000000e+00,\n",
      "        0.00000000e+00, -1.56250000e-02,  0.00000000e+00,  0.00000000e+00,\n",
      "        0.00000000e+00,  0.00000000e+00,  0.00000000e+00,  0.00000000e+00,\n",
      "        0.00000000e+00,  1.31671875e+02,  1.09375000e-01])\n",
      " message: 'Inequality constraints incompatible'\n",
      "    nfev: 5353\n",
      "     nit: 94\n",
      "    njev: 93\n",
      "  status: 4\n",
      " success: False\n",
      "       x: array([-5.78365874e+08, -5.54112056e+08, -5.54177449e+08, -5.54131035e+08,\n",
      "       -5.54149867e+08, -5.54148297e+08, -5.54182782e+08, -5.54167228e+08,\n",
      "        2.42612379e+04, -3.52801420e+08, -3.52667098e+08, -3.52755318e+08,\n",
      "       -3.52760750e+08, -3.52765973e+08, -3.52775625e+08, -3.52770669e+08,\n",
      "       -3.52739207e+08, -3.52772055e+08, -3.52768364e+08, -3.12467837e+02,\n",
      "       -3.23559251e+02, -2.00889115e+08, -2.04212573e+08, -2.00869795e+08,\n",
      "       -2.00933377e+08, -2.00885957e+08, -2.00895373e+08, -2.00868815e+08,\n",
      "       -2.00906743e+08, -2.00894638e+08, -2.00888211e+08, -2.00892725e+08,\n",
      "       -2.00870322e+08, -2.00852070e+08, -2.00945975e+08, -1.26045025e+01,\n",
      "        4.24412439e+07,  4.24659306e+07,  4.24774488e+07,  4.24428074e+07,\n",
      "        4.24849358e+07,  4.24947669e+07,  1.64371204e+09, -1.29007374e+10,\n",
      "        1.64367136e+09,  1.64368575e+09,  1.64368771e+09,  1.64364741e+09,\n",
      "        1.64366674e+09,  4.68921234e-04,  2.16604531e+03])\n"
     ]
    }
   ],
   "source": [
    "for g in gamma:\n",
    "    LR_FGACCURACY_sex.append(train_test_classifier_comp(lf._logistic_loss, apply_accuracy_constraint=1, sep_constraint=1, sensitive_attrs=['sex'], gamma=g))"
   ]
  },
  {
   "cell_type": "code",
   "execution_count": 174,
   "metadata": {},
   "outputs": [
    {
     "data": {
      "image/png": "[encoded data removed]",
      "text/plain": [
       "<matplotlib.figure.Figure at 0x23115612160>"
      ]
     },
     "metadata": {},
     "output_type": "display_data"
    }
   ],
   "source": [
    "plt.plot(thresh, LR_FAIR_sex_P, label='LR_FAIR_sex')\n",
    "plt.plot(thresh, LR_FAIR_race_P, label='LR_FAIR_race')\n",
    "plt.plot(thresh, LR_FAIR_both_Psex, label='LR_FAIR_both_sex')\n",
    "plt.plot(thresh, LR_FAIR_sex_P, label='LR_FAIR_both_race')\n",
    "plt.xlim(np.max(thresh), np.min(thresh))\n",
    "plt.legend()\n",
    "plt.xlabel('covariance threshold (c)')\n",
    "plt.ylabel('p%-rule')\n",
    "\n",
    "plt.show()"
   ]
  },
  {
   "cell_type": "code",
   "execution_count": null,
   "metadata": {},
   "outputs": [],
   "source": [
    "\n"
   ]
  }
 ],
 "metadata": {
  "kernelspec": {
   "display_name": "Python 3",
   "language": "python",
   "name": "python3"
  },
  "language_info": {
   "codemirror_mode": {
    "name": "ipython",
    "version": 3
   },
   "file_extension": ".py",
   "mimetype": "text/x-python",
   "name": "python",
   "nbconvert_exporter": "python",
   "pygments_lexer": "ipython3",
   "version": "3.6.4"
  }
 },
 "nbformat": 4,
 "nbformat_minor": 2
}
